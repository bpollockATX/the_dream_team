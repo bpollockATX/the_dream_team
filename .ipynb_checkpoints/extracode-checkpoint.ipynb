{
 "cells": [
  {
   "cell_type": "code",
   "execution_count": null,
   "metadata": {},
   "outputs": [],
   "source": [
    "# Sample bins. Feel free to create your own bins.\n",
    "#spending_bins = [0, 585, 615, 645, 675]\n",
    "#group_names = [\"<$585\", \"$585-615\", \"$615-645\", \"$645-675\"]"
   ]
  },
  {
   "cell_type": "code",
   "execution_count": null,
   "metadata": {},
   "outputs": [],
   "source": [
    "#district_summary_df['Per Student Budget'] = district_summary_df['Per Student Budget'].str.replace('$', '')\n",
    "#district_summary_df['Per Student Budget'] = district_summary_df['Per Student Budget'].str.replace(',', '')\n",
    "#district_summary_df['Per Student Budget'] = district_summary_df['Per Student Budget'].astype(float)"
   ]
  },
  {
   "cell_type": "code",
   "execution_count": null,
   "metadata": {},
   "outputs": [],
   "source": [
    "#district_summary_df[\"Spending Ranges (Per Student)\"] = pd.cut(district_summary_df[\"Per Student Budget\"], spending_bins, labels=group_names)\n",
    "#spend_summary = district_summary_df.groupby(\"Spending Ranges (Per Student)\")\n",
    "#spend_summary"
   ]
  },
  {
   "cell_type": "code",
   "execution_count": null,
   "metadata": {},
   "outputs": [],
   "source": [
    "#plt.figure(figsize=(30, 14))\n",
    "#sns.palplot(sns.color_palette(\"husl\", 24))\n",
    "#plt.title('District Spending Overtime')\n",
    "\n",
    "#district_chart = sns.lineplot(\n",
    "#    x=\"Per Student Budget\",\n",
    "#    y=\"Spending Ranges (Per Student)\",\n",
    "#    hue='YRDATA',\n",
    "#   data=district_summary_df\n",
    "#).set_title('District Spending Overtime')\n",
    "#plt.show()\n"
   ]
  },
  {
   "cell_type": "code",
   "execution_count": null,
   "metadata": {},
   "outputs": [],
   "source": [
    "#my_df.plot(kind='bar', stacked=True, title=\"The title of my graph\")\n",
    "#by_site_sex = surveys_df.groupby(['plot_id', 'sex'])\n",
    "#site_sex_count = by_site_sex['weight'].sum()\n",
    "#spc = site_sex_count.unstack()\n",
    "#s_plot = spc.plot(kind='bar', stacked=True, title=\"Total weight by site and sex\")\n",
    "#s_plot.set_ylabel(\"Weight\")\n",
    "#s_plot.set_xlabel(\"Plot\")"
   ]
  },
  {
   "cell_type": "code",
   "execution_count": null,
   "metadata": {},
   "outputs": [],
   "source": [
    "#surveys = pd.read_csv(\"data/surveys.csv\")\n",
    "#my_plot = surveys.plot(\"hindfoot_length\", \"weight\", kind=\"scatter\")\n",
    "#plt.show() # not necessary in Jupyter Notebooks"
   ]
  }
 ],
 "metadata": {
  "kernelspec": {
   "display_name": "Python 3",
   "language": "python",
   "name": "python3"
  },
  "language_info": {
   "codemirror_mode": {
    "name": "ipython",
    "version": 3
   },
   "file_extension": ".py",
   "mimetype": "text/x-python",
   "name": "python",
   "nbconvert_exporter": "python",
   "pygments_lexer": "ipython3",
   "version": "3.7.6"
  }
 },
 "nbformat": 4,
 "nbformat_minor": 4
}
