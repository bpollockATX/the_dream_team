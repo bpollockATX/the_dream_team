{
 "cells": [
  {
   "cell_type": "markdown",
   "metadata": {},
   "source": [
    "# Spending by schoold districts in the USA for years 1993 - 2016"
   ]
  },
  {
   "cell_type": "markdown",
   "metadata": {},
   "source": [
    "*Disclaimer some information was not provided, or specifically coded for privacy, therefore removed"
   ]
  },
  {
   "cell_type": "code",
   "execution_count": 51,
   "metadata": {},
   "outputs": [],
   "source": [
    "# Dependencies and Setup\n",
    "\n",
    "import csv\n",
    "import pandas as pd\n",
    "import numpy as np\n",
    "import matplotlib.pyplot as plt\n",
    "import seaborn as sns\n",
    "%matplotlib inline\n",
    "import datetime"
   ]
  },
  {
   "cell_type": "code",
   "execution_count": 52,
   "metadata": {},
   "outputs": [],
   "source": [
    "# Import and Read CSV\n",
    "\n",
    "districts_df = \"Resources/districts.csv\"\n",
    "district_data = pd.read_csv(districts_df)"
   ]
  },
  {
   "cell_type": "code",
   "execution_count": 53,
   "metadata": {},
   "outputs": [
    {
     "data": {
      "text/html": [
       "<div>\n",
       "<style scoped>\n",
       "    .dataframe tbody tr th:only-of-type {\n",
       "        vertical-align: middle;\n",
       "    }\n",
       "\n",
       "    .dataframe tbody tr th {\n",
       "        vertical-align: top;\n",
       "    }\n",
       "\n",
       "    .dataframe thead th {\n",
       "        text-align: right;\n",
       "    }\n",
       "</style>\n",
       "<table border=\"1\" class=\"dataframe\">\n",
       "  <thead>\n",
       "    <tr style=\"text-align: right;\">\n",
       "      <th></th>\n",
       "      <th>STATE</th>\n",
       "      <th>ENROLL</th>\n",
       "      <th>NAME</th>\n",
       "      <th>YRDATA</th>\n",
       "      <th>TOTALREV</th>\n",
       "      <th>TFEDREV</th>\n",
       "      <th>TSTREV</th>\n",
       "      <th>TLOCREV</th>\n",
       "      <th>TOTALEXP</th>\n",
       "      <th>TCURINST</th>\n",
       "      <th>TCURSSVC</th>\n",
       "      <th>TCURONON</th>\n",
       "      <th>TCAPOUT</th>\n",
       "    </tr>\n",
       "  </thead>\n",
       "  <tbody>\n",
       "    <tr>\n",
       "      <th>0</th>\n",
       "      <td>Alabama</td>\n",
       "      <td>7152.0</td>\n",
       "      <td>AUTAUGA CO SCH DIST</td>\n",
       "      <td>1993</td>\n",
       "      <td>24072000</td>\n",
       "      <td>2948000</td>\n",
       "      <td>15799000</td>\n",
       "      <td>5325000</td>\n",
       "      <td>23992000</td>\n",
       "      <td>12909000</td>\n",
       "      <td>6307000</td>\n",
       "      <td>1773000</td>\n",
       "      <td>2758000</td>\n",
       "    </tr>\n",
       "    <tr>\n",
       "      <th>1</th>\n",
       "      <td>Alabama</td>\n",
       "      <td>18735.0</td>\n",
       "      <td>BALDWIN CO SCH DIST</td>\n",
       "      <td>1993</td>\n",
       "      <td>74169000</td>\n",
       "      <td>6107000</td>\n",
       "      <td>42329000</td>\n",
       "      <td>25733000</td>\n",
       "      <td>79882000</td>\n",
       "      <td>37961000</td>\n",
       "      <td>20024000</td>\n",
       "      <td>4545000</td>\n",
       "      <td>13952000</td>\n",
       "    </tr>\n",
       "    <tr>\n",
       "      <th>2</th>\n",
       "      <td>Alabama</td>\n",
       "      <td>2159.0</td>\n",
       "      <td>BARBOUR CO SCH DIST</td>\n",
       "      <td>1993</td>\n",
       "      <td>8749000</td>\n",
       "      <td>1786000</td>\n",
       "      <td>5840000</td>\n",
       "      <td>1123000</td>\n",
       "      <td>9279000</td>\n",
       "      <td>5099000</td>\n",
       "      <td>2610000</td>\n",
       "      <td>836000</td>\n",
       "      <td>581000</td>\n",
       "    </tr>\n",
       "    <tr>\n",
       "      <th>3</th>\n",
       "      <td>Alabama</td>\n",
       "      <td>2976.0</td>\n",
       "      <td>EUFAULA CTY SCH DIST</td>\n",
       "      <td>1993</td>\n",
       "      <td>11897000</td>\n",
       "      <td>1371000</td>\n",
       "      <td>7174000</td>\n",
       "      <td>3352000</td>\n",
       "      <td>11940000</td>\n",
       "      <td>6682000</td>\n",
       "      <td>2985000</td>\n",
       "      <td>1127000</td>\n",
       "      <td>1146000</td>\n",
       "    </tr>\n",
       "    <tr>\n",
       "      <th>4</th>\n",
       "      <td>Alabama</td>\n",
       "      <td>3565.0</td>\n",
       "      <td>BIBB CO SCH DIST</td>\n",
       "      <td>1993</td>\n",
       "      <td>12056000</td>\n",
       "      <td>2038000</td>\n",
       "      <td>8543000</td>\n",
       "      <td>1475000</td>\n",
       "      <td>11837000</td>\n",
       "      <td>6865000</td>\n",
       "      <td>3502000</td>\n",
       "      <td>1101000</td>\n",
       "      <td>221000</td>\n",
       "    </tr>\n",
       "  </tbody>\n",
       "</table>\n",
       "</div>"
      ],
      "text/plain": [
       "     STATE   ENROLL                  NAME  YRDATA  TOTALREV  TFEDREV  \\\n",
       "0  Alabama   7152.0   AUTAUGA CO SCH DIST    1993  24072000  2948000   \n",
       "1  Alabama  18735.0   BALDWIN CO SCH DIST    1993  74169000  6107000   \n",
       "2  Alabama   2159.0   BARBOUR CO SCH DIST    1993   8749000  1786000   \n",
       "3  Alabama   2976.0  EUFAULA CTY SCH DIST    1993  11897000  1371000   \n",
       "4  Alabama   3565.0      BIBB CO SCH DIST    1993  12056000  2038000   \n",
       "\n",
       "     TSTREV   TLOCREV  TOTALEXP  TCURINST  TCURSSVC  TCURONON   TCAPOUT  \n",
       "0  15799000   5325000  23992000  12909000   6307000   1773000   2758000  \n",
       "1  42329000  25733000  79882000  37961000  20024000   4545000  13952000  \n",
       "2   5840000   1123000   9279000   5099000   2610000    836000    581000  \n",
       "3   7174000   3352000  11940000   6682000   2985000   1127000   1146000  \n",
       "4   8543000   1475000  11837000   6865000   3502000   1101000    221000  "
      ]
     },
     "execution_count": 53,
     "metadata": {},
     "output_type": "execute_result"
    }
   ],
   "source": [
    "# Clean up CSV\n",
    "\n",
    "district_data = district_data.dropna().reset_index()\n",
    "del district_data[\"index\"]\n",
    "district_data = district_data[district_data[\"ENROLL\"]!=0]\n",
    "district_data.head()"
   ]
  },
  {
   "cell_type": "markdown",
   "metadata": {},
   "source": [
    "## Data By District"
   ]
  },
  {
   "cell_type": "code",
   "execution_count": 54,
   "metadata": {},
   "outputs": [
    {
     "data": {
      "text/plain": [
       "24737"
      ]
     },
     "execution_count": 54,
     "metadata": {},
     "output_type": "execute_result"
    }
   ],
   "source": [
    "# District Count\n",
    "\n",
    "district_count = len(district_data[\"NAME\"].unique())\n",
    "district_count"
   ]
  },
  {
   "cell_type": "code",
   "execution_count": 55,
   "metadata": {},
   "outputs": [
    {
     "data": {
      "text/plain": [
       "333026"
      ]
     },
     "execution_count": 55,
     "metadata": {},
     "output_type": "execute_result"
    }
   ],
   "source": [
    "# Total Count of Schools by District\n",
    "\n",
    "district_total = district_data[\"NAME\"].count()\n",
    "district_total"
   ]
  },
  {
   "cell_type": "code",
   "execution_count": 56,
   "metadata": {},
   "outputs": [
    {
     "data": {
      "text/plain": [
       "1123070877.0"
      ]
     },
     "execution_count": 56,
     "metadata": {},
     "output_type": "execute_result"
    }
   ],
   "source": [
    "# Total Count of Students per District\n",
    "\n",
    "student_total = district_data[\"ENROLL\"].sum()\n",
    "student_total"
   ]
  },
  {
   "cell_type": "code",
   "execution_count": 57,
   "metadata": {},
   "outputs": [
    {
     "data": {
      "text/plain": [
       "11129473172000"
      ]
     },
     "execution_count": 57,
     "metadata": {},
     "output_type": "execute_result"
    }
   ],
   "source": [
    "# Total Budget per District\n",
    "\n",
    "budget_total = district_data[\"TOTALREV\"].sum()\n",
    "budget_total"
   ]
  },
  {
   "cell_type": "code",
   "execution_count": 58,
   "metadata": {},
   "outputs": [
    {
     "data": {
      "text/plain": [
       "NAME\n",
       "A-H-S-T SCHOOL DISTRICT               13551.0\n",
       "A.C.G.C. SCHOOL DISTRICT              19060.0\n",
       "ABBEVILLE CO SCH DIST                 57038.0\n",
       "ABBEVILLE COUNTY SCHOOL DISTRICT      28747.0\n",
       "ABBOTSFORD SCH DIST                   10488.0\n",
       "                                       ...   \n",
       "ZUMBROTA-MAZEPPA SCH DISTRICT 2805    23567.0\n",
       "ZUMBROTA-MAZEPPA SCH DT 2805           3172.0\n",
       "ZUNI SCHOOL DISTRICT                  38102.0\n",
       "ZURICH ELEM                             108.0\n",
       "ZURICH ELEM DIST 17                    1009.0\n",
       "Name: ENROLL, Length: 24737, dtype: float64"
      ]
     },
     "execution_count": 58,
     "metadata": {},
     "output_type": "execute_result"
    }
   ],
   "source": [
    "#Students per District\n",
    "\n",
    "student_per_district= district_data.groupby([\"NAME\"])[\"ENROLL\"].sum()\n",
    "student_per_district"
   ]
  },
  {
   "cell_type": "code",
   "execution_count": 59,
   "metadata": {},
   "outputs": [
    {
     "data": {
      "text/plain": [
       "NAME\n",
       "A-H-S-T SCHOOL DISTRICT               135416000\n",
       "A.C.G.C. SCHOOL DISTRICT              207671000\n",
       "ABBEVILLE CO SCH DIST                 398693000\n",
       "ABBEVILLE COUNTY SCHOOL DISTRICT      282900000\n",
       "ABBOTSFORD SCH DIST                    85986000\n",
       "                                        ...    \n",
       "ZUMBROTA-MAZEPPA SCH DISTRICT 2805    238969000\n",
       "ZUMBROTA-MAZEPPA SCH DT 2805           22839000\n",
       "ZUNI SCHOOL DISTRICT                  442658000\n",
       "ZURICH ELEM                              502000\n",
       "ZURICH ELEM DIST 17                     7022000\n",
       "Name: TOTALEXP, Length: 24737, dtype: int64"
      ]
     },
     "execution_count": 59,
     "metadata": {},
     "output_type": "execute_result"
    }
   ],
   "source": [
    "# Total District Budget\n",
    "\n",
    "district_budget = district_data.groupby([\"NAME\"])[\"TOTALEXP\"].sum()\n",
    "district_budget"
   ]
  },
  {
   "cell_type": "code",
   "execution_count": 60,
   "metadata": {},
   "outputs": [
    {
     "data": {
      "text/plain": [
       "NAME\n",
       "A-H-S-T SCHOOL DISTRICT                9993.063243\n",
       "A.C.G.C. SCHOOL DISTRICT              10895.645331\n",
       "ABBEVILLE CO SCH DIST                  6989.954066\n",
       "ABBEVILLE COUNTY SCHOOL DISTRICT       9841.026890\n",
       "ABBOTSFORD SCH DIST                    8198.512586\n",
       "                                          ...     \n",
       "ZUMBROTA-MAZEPPA SCH DISTRICT 2805    10139.983876\n",
       "ZUMBROTA-MAZEPPA SCH DT 2805           7200.189155\n",
       "ZUNI SCHOOL DISTRICT                  11617.710356\n",
       "ZURICH ELEM                            4648.148148\n",
       "ZURICH ELEM DIST 17                    6959.365709\n",
       "Length: 24737, dtype: float64"
      ]
     },
     "execution_count": 60,
     "metadata": {},
     "output_type": "execute_result"
    }
   ],
   "source": [
    "# District Student Budget\n",
    "\n",
    "district_student_budget = district_budget/student_per_district\n",
    "district_student_budget"
   ]
  },
  {
   "cell_type": "markdown",
   "metadata": {},
   "source": [
    "## Data By State"
   ]
  },
  {
   "cell_type": "code",
   "execution_count": 61,
   "metadata": {},
   "outputs": [
    {
     "data": {
      "text/plain": [
       "51"
      ]
     },
     "execution_count": 61,
     "metadata": {},
     "output_type": "execute_result"
    }
   ],
   "source": [
    "# Total of States in Dataset\n",
    "\n",
    "total_states = len(district_data[\"STATE\"].unique())\n",
    "total_states"
   ]
  },
  {
   "cell_type": "code",
   "execution_count": 62,
   "metadata": {},
   "outputs": [
    {
     "data": {
      "text/plain": [
       "array(['Alabama', 'Alaska', 'Arizona', 'Arkansas', 'California',\n",
       "       'Colorado', 'Connecticut', 'Delaware', 'District of Columbia',\n",
       "       'Florida', 'Georgia', 'Hawaii', 'Idaho', 'Illinois', 'Indiana',\n",
       "       'Iowa', 'Kansas', 'Kentucky', 'Louisiana', 'Maine', 'Maryland',\n",
       "       'Massachusetts', 'Michigan', 'Minnesota', 'Mississippi',\n",
       "       'Missouri', 'Montana', 'Nebraska', 'Nevada', 'New Hampshire',\n",
       "       'New Jersey', 'New Mexico', 'New York', 'North Carolina',\n",
       "       'North Dakota', 'Ohio', 'Oklahoma', 'Oregon', 'Pennsylvania',\n",
       "       'Rhode Island', 'South Carolina', 'South Dakota', 'Tennessee',\n",
       "       'Texas', 'Utah', 'Vermont', 'Virginia', 'Washington',\n",
       "       'West Virginia', 'Wisconsin', 'Wyoming'], dtype=object)"
      ]
     },
     "execution_count": 62,
     "metadata": {},
     "output_type": "execute_result"
    }
   ],
   "source": [
    "# States\n",
    "\n",
    "state_data = district_data[\"STATE\"].unique()\n",
    "state_data"
   ]
  },
  {
   "cell_type": "code",
   "execution_count": 63,
   "metadata": {},
   "outputs": [
    {
     "data": {
      "text/plain": [
       "STATE\n",
       "Alabama                  139579613000\n",
       "Alaska                    44461601000\n",
       "Arizona                  159531203000\n",
       "Arkansas                  89247427000\n",
       "California              1364825940000\n",
       "Colorado                 161575561000\n",
       "Connecticut              174856631000\n",
       "Delaware                  33733053000\n",
       "District of Columbia      24686303000\n",
       "Florida                  520884489000\n",
       "Georgia                  325946360000\n",
       "Hawaii                    43353673000\n",
       "Idaho                     40206356000\n",
       "Illinois                 509319964000\n",
       "Indiana                  227132447000\n",
       "Iowa                     109385261000\n",
       "Kansas                   103863969000\n",
       "Kentucky                 131240486000\n",
       "Louisiana                145797244000\n",
       "Maine                     50831886000\n",
       "Maryland                 234655494000\n",
       "Massachusetts            287284903000\n",
       "Michigan                 376108165000\n",
       "Minnesota                207462206000\n",
       "Mississippi               82934339000\n",
       "Missouri                 187723526000\n",
       "Montana                   31265079000\n",
       "Nebraska                  66757174000\n",
       "Nevada                    76715244000\n",
       "New Hampshire             52418874000\n",
       "New Jersey               479987842000\n",
       "New Mexico                66802996000\n",
       "New York                1081786195000\n",
       "North Carolina           257383881000\n",
       "North Dakota              23637096000\n",
       "Ohio                     404178637000\n",
       "Oklahoma                 104479788000\n",
       "Oregon                   118505121000\n",
       "Pennsylvania             482792960000\n",
       "Rhode Island              41497161000\n",
       "South Carolina           150321727000\n",
       "South Dakota              24724702000\n",
       "Tennessee                166107266000\n",
       "Texas                    934988767000\n",
       "Utah                      78979125000\n",
       "Vermont                   31227569000\n",
       "Virginia                 279290624000\n",
       "Washington               229337458000\n",
       "West Virginia             64852214000\n",
       "Wisconsin                219171565000\n",
       "Wyoming                   28191871000\n",
       "Name: TOTALEXP, dtype: int64"
      ]
     },
     "execution_count": 63,
     "metadata": {},
     "output_type": "execute_result"
    }
   ],
   "source": [
    "#Total Spend per State\n",
    "\n",
    "state_budget = district_data.groupby([\"STATE\"])[\"TOTALEXP\"].sum()\n",
    "state_budget"
   ]
  },
  {
   "cell_type": "code",
   "execution_count": 64,
   "metadata": {},
   "outputs": [
    {
     "data": {
      "text/plain": [
       "STATE\n",
       "Alabama                  17678024.0\n",
       "Alaska                    3130311.0\n",
       "Arizona                  20983730.0\n",
       "Arkansas                 10845646.0\n",
       "California              142688233.0\n",
       "Colorado                 18037626.0\n",
       "Connecticut              12555136.0\n",
       "Delaware                  2727320.0\n",
       "District of Columbia      1487954.0\n",
       "Florida                  59674574.0\n",
       "Georgia                  36088712.0\n",
       "Hawaii                    4402019.0\n",
       "Idaho                     6132080.0\n",
       "Illinois                 48624065.0\n",
       "Indiana                  24001557.0\n",
       "Iowa                     11849811.0\n",
       "Kansas                   11345948.0\n",
       "Kentucky                 15576312.0\n",
       "Louisiana                17199398.0\n",
       "Maine                     4761041.0\n",
       "Maryland                 20206994.0\n",
       "Massachusetts            22364558.0\n",
       "Michigan                 38267781.0\n",
       "Minnesota                19577414.0\n",
       "Mississippi              11724554.0\n",
       "Missouri                 21495417.0\n",
       "Montana                   3623107.0\n",
       "Nebraska                  7010348.0\n",
       "Nevada                    8764217.0\n",
       "New Hampshire             4652750.0\n",
       "New Jersey               30293514.0\n",
       "New Mexico                7753172.0\n",
       "New York                 65956355.0\n",
       "North Carolina           31933146.0\n",
       "North Dakota              2550823.0\n",
       "Ohio                     42032299.0\n",
       "Oklahoma                 14701338.0\n",
       "Oregon                   13184314.0\n",
       "Pennsylvania             41203400.0\n",
       "Rhode Island              3512872.0\n",
       "South Carolina           16493205.0\n",
       "South Dakota              3047278.0\n",
       "Tennessee                22374594.0\n",
       "Texas                   103570080.0\n",
       "Utah                     12227383.0\n",
       "Vermont                   2243199.0\n",
       "Virginia                 28311178.0\n",
       "Washington               24256487.0\n",
       "West Virginia             6939079.0\n",
       "Wisconsin                20810578.0\n",
       "Wyoming                   2199946.0\n",
       "Name: ENROLL, dtype: float64"
      ]
     },
     "execution_count": 64,
     "metadata": {},
     "output_type": "execute_result"
    }
   ],
   "source": [
    "# Students per State\n",
    "\n",
    "student_per_state= district_data.groupby([\"STATE\"])[\"ENROLL\"].sum()\n",
    "student_per_state"
   ]
  },
  {
   "cell_type": "code",
   "execution_count": 65,
   "metadata": {
    "scrolled": true
   },
   "outputs": [
    {
     "data": {
      "text/plain": [
       "STATE\n",
       "Alabama                  7895.656947\n",
       "Alaska                  14203.573064\n",
       "Arizona                  7602.614168\n",
       "Arkansas                 8228.871475\n",
       "California               9565.091047\n",
       "Colorado                 8957.695486\n",
       "Connecticut             13927.099714\n",
       "Delaware                12368.571711\n",
       "District of Columbia    16590.770279\n",
       "Florida                  8728.750858\n",
       "Georgia                  9031.809171\n",
       "Hawaii                   9848.588341\n",
       "Idaho                    6556.723983\n",
       "Illinois                10474.647975\n",
       "Indiana                  9463.238031\n",
       "Iowa                     9230.970941\n",
       "Kansas                   9154.278602\n",
       "Kentucky                 8425.645686\n",
       "Louisiana                8476.880644\n",
       "Maine                   10676.632694\n",
       "Maryland                11612.587899\n",
       "Massachusetts           12845.543516\n",
       "Michigan                 9828.324381\n",
       "Minnesota               10597.017870\n",
       "Mississippi              7073.560239\n",
       "Missouri                 8733.188382\n",
       "Montana                  8629.355688\n",
       "Nebraska                 9522.661928\n",
       "Nevada                   8753.234202\n",
       "New Hampshire           11266.213315\n",
       "New Jersey              15844.574585\n",
       "New Mexico               8616.214886\n",
       "New York                16401.546068\n",
       "North Carolina           8060.085311\n",
       "North Dakota             9266.458708\n",
       "Ohio                     9615.906020\n",
       "Oklahoma                 7106.821706\n",
       "Oregon                   8988.341828\n",
       "Pennsylvania            11717.308766\n",
       "Rhode Island            11812.887290\n",
       "South Carolina           9114.161074\n",
       "South Dakota             8113.700818\n",
       "Tennessee                7423.923134\n",
       "Texas                    9027.595296\n",
       "Utah                     6459.201041\n",
       "Vermont                 13920.998092\n",
       "Virginia                 9865.030131\n",
       "Washington               9454.685586\n",
       "West Virginia            9345.939713\n",
       "Wisconsin               10531.738475\n",
       "Wyoming                 12814.801363\n",
       "dtype: float64"
      ]
     },
     "execution_count": 65,
     "metadata": {},
     "output_type": "execute_result"
    }
   ],
   "source": [
    "# State Student Budget\n",
    "\n",
    "state_student_budget  = state_budget/student_per_state\n",
    "state_student_budget"
   ]
  },
  {
   "cell_type": "markdown",
   "metadata": {},
   "source": [
    "# Data By Years"
   ]
  },
  {
   "cell_type": "code",
   "execution_count": 66,
   "metadata": {},
   "outputs": [
    {
     "data": {
      "text/plain": [
       "24"
      ]
     },
     "execution_count": 66,
     "metadata": {},
     "output_type": "execute_result"
    }
   ],
   "source": [
    "# Total of Years in Dataset\n",
    "\n",
    "district_years = len(district_data[\"YRDATA\"].unique())\n",
    "district_years"
   ]
  },
  {
   "cell_type": "code",
   "execution_count": 67,
   "metadata": {},
   "outputs": [
    {
     "data": {
      "text/plain": [
       "array([1993, 1994, 1995, 1996, 1997, 1998, 1999, 2000, 2001, 2002, 2003,\n",
       "       2004, 2005, 2006, 2007, 2008, 2009, 2010, 2011, 2012, 2013, 2014,\n",
       "       2015, 2016], dtype=int64)"
      ]
     },
     "execution_count": 67,
     "metadata": {},
     "output_type": "execute_result"
    }
   ],
   "source": [
    "# Years\n",
    "\n",
    "years_data= district_data[\"YRDATA\"].unique()\n",
    "years_data"
   ]
  },
  {
   "cell_type": "code",
   "execution_count": 68,
   "metadata": {},
   "outputs": [
    {
     "data": {
      "text/plain": [
       "YRDATA\n",
       "1993    40904771.0\n",
       "1994    40870582.0\n",
       "1995    43807625.0\n",
       "1996    44570461.0\n",
       "1997    45307367.0\n",
       "1998    45772962.0\n",
       "1999    46160175.0\n",
       "2000    46432782.0\n",
       "2001    46731110.0\n",
       "2002    47114728.0\n",
       "2003    47603240.0\n",
       "2004    47854683.0\n",
       "2005    48055258.0\n",
       "2006    48301028.0\n",
       "2007    48404572.0\n",
       "2008    48401417.0\n",
       "2009    48258715.0\n",
       "2010    48266209.0\n",
       "2011    48275975.0\n",
       "2012    48214349.0\n",
       "2013    48297621.0\n",
       "2014    48378984.0\n",
       "2015    48514436.0\n",
       "2016    48571827.0\n",
       "Name: ENROLL, dtype: float64"
      ]
     },
     "execution_count": 68,
     "metadata": {},
     "output_type": "execute_result"
    }
   ],
   "source": [
    "# Students per Year\n",
    "\n",
    "student_per_year= district_data.groupby([\"YRDATA\"])[\"ENROLL\"].sum()\n",
    "student_per_year"
   ]
  },
  {
   "cell_type": "code",
   "execution_count": 69,
   "metadata": {},
   "outputs": [
    {
     "data": {
      "text/plain": [
       "YRDATA\n",
       "1993    239386953000\n",
       "1994    246456792000\n",
       "1995    275193485000\n",
       "1996    292169698000\n",
       "1997    309693746000\n",
       "1998    330243890000\n",
       "1999    353514316000\n",
       "2000    378822616000\n",
       "2001    409180333000\n",
       "2002    433421830000\n",
       "2003    452576042000\n",
       "2004    471376097000\n",
       "2005    495882017000\n",
       "2006    525309655000\n",
       "2007    558695010000\n",
       "2008    591885951000\n",
       "2009    603489098000\n",
       "2010    600853543000\n",
       "2011    595355893000\n",
       "2012    593661313000\n",
       "2013    597487738000\n",
       "2014    613442283000\n",
       "2015    639578591000\n",
       "2016    664352146000\n",
       "Name: TOTALEXP, dtype: int64"
      ]
     },
     "execution_count": 69,
     "metadata": {},
     "output_type": "execute_result"
    }
   ],
   "source": [
    "#Total Spend per Year\n",
    "\n",
    "year_budget = district_data.groupby([\"YRDATA\"])[\"TOTALEXP\"].sum()\n",
    "year_budget"
   ]
  },
  {
   "cell_type": "code",
   "execution_count": 70,
   "metadata": {},
   "outputs": [
    {
     "data": {
      "text/plain": [
       "YRDATA\n",
       "1993     5852.299063\n",
       "1994     6030.175739\n",
       "1995     6281.862689\n",
       "1996     6555.231681\n",
       "1997     6835.394915\n",
       "1998     7214.824551\n",
       "1999     7658.426685\n",
       "2000     8158.516455\n",
       "2001     8756.058501\n",
       "2002     9199.285412\n",
       "2003     9507.252910\n",
       "2004     9850.156086\n",
       "2005    10318.996040\n",
       "2006    10875.744819\n",
       "2007    11542.195022\n",
       "2008    12228.690557\n",
       "2009    12505.287346\n",
       "2010    12448.741168\n",
       "2011    12332.343220\n",
       "2012    12312.959219\n",
       "2013    12370.955870\n",
       "2014    12679.933150\n",
       "2015    13183.263452\n",
       "2016    13677.726102\n",
       "dtype: float64"
      ]
     },
     "execution_count": 70,
     "metadata": {},
     "output_type": "execute_result"
    }
   ],
   "source": [
    "# Yearly Student Budget\n",
    "\n",
    "yearly_student_budget  = year_budget/student_per_year\n",
    "yearly_student_budget"
   ]
  },
  {
   "cell_type": "markdown",
   "metadata": {},
   "source": [
    "## Tables"
   ]
  },
  {
   "cell_type": "code",
   "execution_count": 71,
   "metadata": {},
   "outputs": [
    {
     "data": {
      "text/html": [
       "<div>\n",
       "<style scoped>\n",
       "    .dataframe tbody tr th:only-of-type {\n",
       "        vertical-align: middle;\n",
       "    }\n",
       "\n",
       "    .dataframe tbody tr th {\n",
       "        vertical-align: top;\n",
       "    }\n",
       "\n",
       "    .dataframe thead th {\n",
       "        text-align: right;\n",
       "    }\n",
       "</style>\n",
       "<table border=\"1\" class=\"dataframe\">\n",
       "  <thead>\n",
       "    <tr style=\"text-align: right;\">\n",
       "      <th></th>\n",
       "      <th>Total Districts</th>\n",
       "      <th>Total Years</th>\n",
       "      <th>TOTALEXP</th>\n",
       "      <th>ENROLL</th>\n",
       "    </tr>\n",
       "  </thead>\n",
       "  <tbody>\n",
       "    <tr>\n",
       "      <th>0</th>\n",
       "      <td>333026</td>\n",
       "      <td>24</td>\n",
       "      <td>11129473172000</td>\n",
       "      <td>1.123071e+09</td>\n",
       "    </tr>\n",
       "  </tbody>\n",
       "</table>\n",
       "</div>"
      ],
      "text/plain": [
       "   Total Districts  Total Years        TOTALEXP        ENROLL\n",
       "0           333026           24  11129473172000  1.123071e+09"
      ]
     },
     "execution_count": 71,
     "metadata": {},
     "output_type": "execute_result"
    }
   ],
   "source": [
    "# District Table\n",
    "\n",
    "district_summary_table = pd.DataFrame({\"Total Districts\":[district_total], \"Total Years\":[district_years], \"TOTALEXP\":[budget_total], \"ENROLL\":[student_total]})\n",
    "district_summary_table"
   ]
  },
  {
   "cell_type": "code",
   "execution_count": 72,
   "metadata": {},
   "outputs": [
    {
     "data": {
      "text/html": [
       "<div>\n",
       "<style scoped>\n",
       "    .dataframe tbody tr th:only-of-type {\n",
       "        vertical-align: middle;\n",
       "    }\n",
       "\n",
       "    .dataframe tbody tr th {\n",
       "        vertical-align: top;\n",
       "    }\n",
       "\n",
       "    .dataframe thead th {\n",
       "        text-align: right;\n",
       "    }\n",
       "</style>\n",
       "<table border=\"1\" class=\"dataframe\">\n",
       "  <thead>\n",
       "    <tr style=\"text-align: right;\">\n",
       "      <th></th>\n",
       "      <th>TOTALEXP</th>\n",
       "      <th>ENROLL</th>\n",
       "    </tr>\n",
       "    <tr>\n",
       "      <th>STATE</th>\n",
       "      <th></th>\n",
       "      <th></th>\n",
       "    </tr>\n",
       "  </thead>\n",
       "  <tbody>\n",
       "    <tr>\n",
       "      <th>Alabama</th>\n",
       "      <td>139579613000</td>\n",
       "      <td>17678024.0</td>\n",
       "    </tr>\n",
       "    <tr>\n",
       "      <th>Alaska</th>\n",
       "      <td>44461601000</td>\n",
       "      <td>3130311.0</td>\n",
       "    </tr>\n",
       "    <tr>\n",
       "      <th>Arizona</th>\n",
       "      <td>159531203000</td>\n",
       "      <td>20983730.0</td>\n",
       "    </tr>\n",
       "    <tr>\n",
       "      <th>Arkansas</th>\n",
       "      <td>89247427000</td>\n",
       "      <td>10845646.0</td>\n",
       "    </tr>\n",
       "    <tr>\n",
       "      <th>California</th>\n",
       "      <td>1364825940000</td>\n",
       "      <td>142688233.0</td>\n",
       "    </tr>\n",
       "    <tr>\n",
       "      <th>Colorado</th>\n",
       "      <td>161575561000</td>\n",
       "      <td>18037626.0</td>\n",
       "    </tr>\n",
       "    <tr>\n",
       "      <th>Connecticut</th>\n",
       "      <td>174856631000</td>\n",
       "      <td>12555136.0</td>\n",
       "    </tr>\n",
       "    <tr>\n",
       "      <th>Delaware</th>\n",
       "      <td>33733053000</td>\n",
       "      <td>2727320.0</td>\n",
       "    </tr>\n",
       "    <tr>\n",
       "      <th>District of Columbia</th>\n",
       "      <td>24686303000</td>\n",
       "      <td>1487954.0</td>\n",
       "    </tr>\n",
       "    <tr>\n",
       "      <th>Florida</th>\n",
       "      <td>520884489000</td>\n",
       "      <td>59674574.0</td>\n",
       "    </tr>\n",
       "    <tr>\n",
       "      <th>Georgia</th>\n",
       "      <td>325946360000</td>\n",
       "      <td>36088712.0</td>\n",
       "    </tr>\n",
       "    <tr>\n",
       "      <th>Hawaii</th>\n",
       "      <td>43353673000</td>\n",
       "      <td>4402019.0</td>\n",
       "    </tr>\n",
       "    <tr>\n",
       "      <th>Idaho</th>\n",
       "      <td>40206356000</td>\n",
       "      <td>6132080.0</td>\n",
       "    </tr>\n",
       "    <tr>\n",
       "      <th>Illinois</th>\n",
       "      <td>509319964000</td>\n",
       "      <td>48624065.0</td>\n",
       "    </tr>\n",
       "    <tr>\n",
       "      <th>Indiana</th>\n",
       "      <td>227132447000</td>\n",
       "      <td>24001557.0</td>\n",
       "    </tr>\n",
       "    <tr>\n",
       "      <th>Iowa</th>\n",
       "      <td>109385261000</td>\n",
       "      <td>11849811.0</td>\n",
       "    </tr>\n",
       "    <tr>\n",
       "      <th>Kansas</th>\n",
       "      <td>103863969000</td>\n",
       "      <td>11345948.0</td>\n",
       "    </tr>\n",
       "    <tr>\n",
       "      <th>Kentucky</th>\n",
       "      <td>131240486000</td>\n",
       "      <td>15576312.0</td>\n",
       "    </tr>\n",
       "    <tr>\n",
       "      <th>Louisiana</th>\n",
       "      <td>145797244000</td>\n",
       "      <td>17199398.0</td>\n",
       "    </tr>\n",
       "    <tr>\n",
       "      <th>Maine</th>\n",
       "      <td>50831886000</td>\n",
       "      <td>4761041.0</td>\n",
       "    </tr>\n",
       "    <tr>\n",
       "      <th>Maryland</th>\n",
       "      <td>234655494000</td>\n",
       "      <td>20206994.0</td>\n",
       "    </tr>\n",
       "    <tr>\n",
       "      <th>Massachusetts</th>\n",
       "      <td>287284903000</td>\n",
       "      <td>22364558.0</td>\n",
       "    </tr>\n",
       "    <tr>\n",
       "      <th>Michigan</th>\n",
       "      <td>376108165000</td>\n",
       "      <td>38267781.0</td>\n",
       "    </tr>\n",
       "    <tr>\n",
       "      <th>Minnesota</th>\n",
       "      <td>207462206000</td>\n",
       "      <td>19577414.0</td>\n",
       "    </tr>\n",
       "    <tr>\n",
       "      <th>Mississippi</th>\n",
       "      <td>82934339000</td>\n",
       "      <td>11724554.0</td>\n",
       "    </tr>\n",
       "    <tr>\n",
       "      <th>Missouri</th>\n",
       "      <td>187723526000</td>\n",
       "      <td>21495417.0</td>\n",
       "    </tr>\n",
       "    <tr>\n",
       "      <th>Montana</th>\n",
       "      <td>31265079000</td>\n",
       "      <td>3623107.0</td>\n",
       "    </tr>\n",
       "    <tr>\n",
       "      <th>Nebraska</th>\n",
       "      <td>66757174000</td>\n",
       "      <td>7010348.0</td>\n",
       "    </tr>\n",
       "    <tr>\n",
       "      <th>Nevada</th>\n",
       "      <td>76715244000</td>\n",
       "      <td>8764217.0</td>\n",
       "    </tr>\n",
       "    <tr>\n",
       "      <th>New Hampshire</th>\n",
       "      <td>52418874000</td>\n",
       "      <td>4652750.0</td>\n",
       "    </tr>\n",
       "    <tr>\n",
       "      <th>New Jersey</th>\n",
       "      <td>479987842000</td>\n",
       "      <td>30293514.0</td>\n",
       "    </tr>\n",
       "    <tr>\n",
       "      <th>New Mexico</th>\n",
       "      <td>66802996000</td>\n",
       "      <td>7753172.0</td>\n",
       "    </tr>\n",
       "    <tr>\n",
       "      <th>New York</th>\n",
       "      <td>1081786195000</td>\n",
       "      <td>65956355.0</td>\n",
       "    </tr>\n",
       "    <tr>\n",
       "      <th>North Carolina</th>\n",
       "      <td>257383881000</td>\n",
       "      <td>31933146.0</td>\n",
       "    </tr>\n",
       "    <tr>\n",
       "      <th>North Dakota</th>\n",
       "      <td>23637096000</td>\n",
       "      <td>2550823.0</td>\n",
       "    </tr>\n",
       "    <tr>\n",
       "      <th>Ohio</th>\n",
       "      <td>404178637000</td>\n",
       "      <td>42032299.0</td>\n",
       "    </tr>\n",
       "    <tr>\n",
       "      <th>Oklahoma</th>\n",
       "      <td>104479788000</td>\n",
       "      <td>14701338.0</td>\n",
       "    </tr>\n",
       "    <tr>\n",
       "      <th>Oregon</th>\n",
       "      <td>118505121000</td>\n",
       "      <td>13184314.0</td>\n",
       "    </tr>\n",
       "    <tr>\n",
       "      <th>Pennsylvania</th>\n",
       "      <td>482792960000</td>\n",
       "      <td>41203400.0</td>\n",
       "    </tr>\n",
       "    <tr>\n",
       "      <th>Rhode Island</th>\n",
       "      <td>41497161000</td>\n",
       "      <td>3512872.0</td>\n",
       "    </tr>\n",
       "    <tr>\n",
       "      <th>South Carolina</th>\n",
       "      <td>150321727000</td>\n",
       "      <td>16493205.0</td>\n",
       "    </tr>\n",
       "    <tr>\n",
       "      <th>South Dakota</th>\n",
       "      <td>24724702000</td>\n",
       "      <td>3047278.0</td>\n",
       "    </tr>\n",
       "    <tr>\n",
       "      <th>Tennessee</th>\n",
       "      <td>166107266000</td>\n",
       "      <td>22374594.0</td>\n",
       "    </tr>\n",
       "    <tr>\n",
       "      <th>Texas</th>\n",
       "      <td>934988767000</td>\n",
       "      <td>103570080.0</td>\n",
       "    </tr>\n",
       "    <tr>\n",
       "      <th>Utah</th>\n",
       "      <td>78979125000</td>\n",
       "      <td>12227383.0</td>\n",
       "    </tr>\n",
       "    <tr>\n",
       "      <th>Vermont</th>\n",
       "      <td>31227569000</td>\n",
       "      <td>2243199.0</td>\n",
       "    </tr>\n",
       "    <tr>\n",
       "      <th>Virginia</th>\n",
       "      <td>279290624000</td>\n",
       "      <td>28311178.0</td>\n",
       "    </tr>\n",
       "    <tr>\n",
       "      <th>Washington</th>\n",
       "      <td>229337458000</td>\n",
       "      <td>24256487.0</td>\n",
       "    </tr>\n",
       "    <tr>\n",
       "      <th>West Virginia</th>\n",
       "      <td>64852214000</td>\n",
       "      <td>6939079.0</td>\n",
       "    </tr>\n",
       "    <tr>\n",
       "      <th>Wisconsin</th>\n",
       "      <td>219171565000</td>\n",
       "      <td>20810578.0</td>\n",
       "    </tr>\n",
       "    <tr>\n",
       "      <th>Wyoming</th>\n",
       "      <td>28191871000</td>\n",
       "      <td>2199946.0</td>\n",
       "    </tr>\n",
       "  </tbody>\n",
       "</table>\n",
       "</div>"
      ],
      "text/plain": [
       "                           TOTALEXP       ENROLL\n",
       "STATE                                           \n",
       "Alabama                139579613000   17678024.0\n",
       "Alaska                  44461601000    3130311.0\n",
       "Arizona                159531203000   20983730.0\n",
       "Arkansas                89247427000   10845646.0\n",
       "California            1364825940000  142688233.0\n",
       "Colorado               161575561000   18037626.0\n",
       "Connecticut            174856631000   12555136.0\n",
       "Delaware                33733053000    2727320.0\n",
       "District of Columbia    24686303000    1487954.0\n",
       "Florida                520884489000   59674574.0\n",
       "Georgia                325946360000   36088712.0\n",
       "Hawaii                  43353673000    4402019.0\n",
       "Idaho                   40206356000    6132080.0\n",
       "Illinois               509319964000   48624065.0\n",
       "Indiana                227132447000   24001557.0\n",
       "Iowa                   109385261000   11849811.0\n",
       "Kansas                 103863969000   11345948.0\n",
       "Kentucky               131240486000   15576312.0\n",
       "Louisiana              145797244000   17199398.0\n",
       "Maine                   50831886000    4761041.0\n",
       "Maryland               234655494000   20206994.0\n",
       "Massachusetts          287284903000   22364558.0\n",
       "Michigan               376108165000   38267781.0\n",
       "Minnesota              207462206000   19577414.0\n",
       "Mississippi             82934339000   11724554.0\n",
       "Missouri               187723526000   21495417.0\n",
       "Montana                 31265079000    3623107.0\n",
       "Nebraska                66757174000    7010348.0\n",
       "Nevada                  76715244000    8764217.0\n",
       "New Hampshire           52418874000    4652750.0\n",
       "New Jersey             479987842000   30293514.0\n",
       "New Mexico              66802996000    7753172.0\n",
       "New York              1081786195000   65956355.0\n",
       "North Carolina         257383881000   31933146.0\n",
       "North Dakota            23637096000    2550823.0\n",
       "Ohio                   404178637000   42032299.0\n",
       "Oklahoma               104479788000   14701338.0\n",
       "Oregon                 118505121000   13184314.0\n",
       "Pennsylvania           482792960000   41203400.0\n",
       "Rhode Island            41497161000    3512872.0\n",
       "South Carolina         150321727000   16493205.0\n",
       "South Dakota            24724702000    3047278.0\n",
       "Tennessee              166107266000   22374594.0\n",
       "Texas                  934988767000  103570080.0\n",
       "Utah                    78979125000   12227383.0\n",
       "Vermont                 31227569000    2243199.0\n",
       "Virginia               279290624000   28311178.0\n",
       "Washington             229337458000   24256487.0\n",
       "West Virginia           64852214000    6939079.0\n",
       "Wisconsin              219171565000   20810578.0\n",
       "Wyoming                 28191871000    2199946.0"
      ]
     },
     "execution_count": 72,
     "metadata": {},
     "output_type": "execute_result"
    }
   ],
   "source": [
    "# State Summary Table\n",
    "\n",
    "state_summary_table = pd.DataFrame({\"TOTALEXP\":state_budget, \"ENROLL\":student_per_state})\n",
    "state_summary_table"
   ]
  },
  {
   "cell_type": "code",
   "execution_count": 73,
   "metadata": {},
   "outputs": [
    {
     "data": {
      "text/html": [
       "<div>\n",
       "<style scoped>\n",
       "    .dataframe tbody tr th:only-of-type {\n",
       "        vertical-align: middle;\n",
       "    }\n",
       "\n",
       "    .dataframe tbody tr th {\n",
       "        vertical-align: top;\n",
       "    }\n",
       "\n",
       "    .dataframe thead th {\n",
       "        text-align: right;\n",
       "    }\n",
       "</style>\n",
       "<table border=\"1\" class=\"dataframe\">\n",
       "  <thead>\n",
       "    <tr style=\"text-align: right;\">\n",
       "      <th></th>\n",
       "      <th>TOTALEXP</th>\n",
       "      <th>ENROLL</th>\n",
       "    </tr>\n",
       "    <tr>\n",
       "      <th>YRDATA</th>\n",
       "      <th></th>\n",
       "      <th></th>\n",
       "    </tr>\n",
       "  </thead>\n",
       "  <tbody>\n",
       "    <tr>\n",
       "      <th>1993</th>\n",
       "      <td>239386953000</td>\n",
       "      <td>40904771.0</td>\n",
       "    </tr>\n",
       "    <tr>\n",
       "      <th>1994</th>\n",
       "      <td>246456792000</td>\n",
       "      <td>40870582.0</td>\n",
       "    </tr>\n",
       "    <tr>\n",
       "      <th>1995</th>\n",
       "      <td>275193485000</td>\n",
       "      <td>43807625.0</td>\n",
       "    </tr>\n",
       "    <tr>\n",
       "      <th>1996</th>\n",
       "      <td>292169698000</td>\n",
       "      <td>44570461.0</td>\n",
       "    </tr>\n",
       "    <tr>\n",
       "      <th>1997</th>\n",
       "      <td>309693746000</td>\n",
       "      <td>45307367.0</td>\n",
       "    </tr>\n",
       "    <tr>\n",
       "      <th>1998</th>\n",
       "      <td>330243890000</td>\n",
       "      <td>45772962.0</td>\n",
       "    </tr>\n",
       "    <tr>\n",
       "      <th>1999</th>\n",
       "      <td>353514316000</td>\n",
       "      <td>46160175.0</td>\n",
       "    </tr>\n",
       "    <tr>\n",
       "      <th>2000</th>\n",
       "      <td>378822616000</td>\n",
       "      <td>46432782.0</td>\n",
       "    </tr>\n",
       "    <tr>\n",
       "      <th>2001</th>\n",
       "      <td>409180333000</td>\n",
       "      <td>46731110.0</td>\n",
       "    </tr>\n",
       "    <tr>\n",
       "      <th>2002</th>\n",
       "      <td>433421830000</td>\n",
       "      <td>47114728.0</td>\n",
       "    </tr>\n",
       "    <tr>\n",
       "      <th>2003</th>\n",
       "      <td>452576042000</td>\n",
       "      <td>47603240.0</td>\n",
       "    </tr>\n",
       "    <tr>\n",
       "      <th>2004</th>\n",
       "      <td>471376097000</td>\n",
       "      <td>47854683.0</td>\n",
       "    </tr>\n",
       "    <tr>\n",
       "      <th>2005</th>\n",
       "      <td>495882017000</td>\n",
       "      <td>48055258.0</td>\n",
       "    </tr>\n",
       "    <tr>\n",
       "      <th>2006</th>\n",
       "      <td>525309655000</td>\n",
       "      <td>48301028.0</td>\n",
       "    </tr>\n",
       "    <tr>\n",
       "      <th>2007</th>\n",
       "      <td>558695010000</td>\n",
       "      <td>48404572.0</td>\n",
       "    </tr>\n",
       "    <tr>\n",
       "      <th>2008</th>\n",
       "      <td>591885951000</td>\n",
       "      <td>48401417.0</td>\n",
       "    </tr>\n",
       "    <tr>\n",
       "      <th>2009</th>\n",
       "      <td>603489098000</td>\n",
       "      <td>48258715.0</td>\n",
       "    </tr>\n",
       "    <tr>\n",
       "      <th>2010</th>\n",
       "      <td>600853543000</td>\n",
       "      <td>48266209.0</td>\n",
       "    </tr>\n",
       "    <tr>\n",
       "      <th>2011</th>\n",
       "      <td>595355893000</td>\n",
       "      <td>48275975.0</td>\n",
       "    </tr>\n",
       "    <tr>\n",
       "      <th>2012</th>\n",
       "      <td>593661313000</td>\n",
       "      <td>48214349.0</td>\n",
       "    </tr>\n",
       "    <tr>\n",
       "      <th>2013</th>\n",
       "      <td>597487738000</td>\n",
       "      <td>48297621.0</td>\n",
       "    </tr>\n",
       "    <tr>\n",
       "      <th>2014</th>\n",
       "      <td>613442283000</td>\n",
       "      <td>48378984.0</td>\n",
       "    </tr>\n",
       "    <tr>\n",
       "      <th>2015</th>\n",
       "      <td>639578591000</td>\n",
       "      <td>48514436.0</td>\n",
       "    </tr>\n",
       "    <tr>\n",
       "      <th>2016</th>\n",
       "      <td>664352146000</td>\n",
       "      <td>48571827.0</td>\n",
       "    </tr>\n",
       "  </tbody>\n",
       "</table>\n",
       "</div>"
      ],
      "text/plain": [
       "            TOTALEXP      ENROLL\n",
       "YRDATA                          \n",
       "1993    239386953000  40904771.0\n",
       "1994    246456792000  40870582.0\n",
       "1995    275193485000  43807625.0\n",
       "1996    292169698000  44570461.0\n",
       "1997    309693746000  45307367.0\n",
       "1998    330243890000  45772962.0\n",
       "1999    353514316000  46160175.0\n",
       "2000    378822616000  46432782.0\n",
       "2001    409180333000  46731110.0\n",
       "2002    433421830000  47114728.0\n",
       "2003    452576042000  47603240.0\n",
       "2004    471376097000  47854683.0\n",
       "2005    495882017000  48055258.0\n",
       "2006    525309655000  48301028.0\n",
       "2007    558695010000  48404572.0\n",
       "2008    591885951000  48401417.0\n",
       "2009    603489098000  48258715.0\n",
       "2010    600853543000  48266209.0\n",
       "2011    595355893000  48275975.0\n",
       "2012    593661313000  48214349.0\n",
       "2013    597487738000  48297621.0\n",
       "2014    613442283000  48378984.0\n",
       "2015    639578591000  48514436.0\n",
       "2016    664352146000  48571827.0"
      ]
     },
     "execution_count": 73,
     "metadata": {},
     "output_type": "execute_result"
    }
   ],
   "source": [
    "# Yearly Summary Table\n",
    "\n",
    "year_summary_table = pd.DataFrame({\"TOTALEXP\":year_budget, \"ENROLL\":student_per_year})\n",
    "year_summary_table"
   ]
  },
  {
   "cell_type": "markdown",
   "metadata": {},
   "source": [
    "## Spending Tables"
   ]
  },
  {
   "cell_type": "code",
   "execution_count": 74,
   "metadata": {},
   "outputs": [
    {
     "data": {
      "text/html": [
       "<div>\n",
       "<style scoped>\n",
       "    .dataframe tbody tr th:only-of-type {\n",
       "        vertical-align: middle;\n",
       "    }\n",
       "\n",
       "    .dataframe tbody tr th {\n",
       "        vertical-align: top;\n",
       "    }\n",
       "\n",
       "    .dataframe thead th {\n",
       "        text-align: right;\n",
       "    }\n",
       "</style>\n",
       "<table border=\"1\" class=\"dataframe\">\n",
       "  <thead>\n",
       "    <tr style=\"text-align: right;\">\n",
       "      <th></th>\n",
       "      <th>Total Students</th>\n",
       "      <th>Total District Budget</th>\n",
       "      <th>Per Student Budget</th>\n",
       "    </tr>\n",
       "    <tr>\n",
       "      <th>NAME</th>\n",
       "      <th></th>\n",
       "      <th></th>\n",
       "      <th></th>\n",
       "    </tr>\n",
       "  </thead>\n",
       "  <tbody>\n",
       "    <tr>\n",
       "      <th>A-H-S-T SCHOOL DISTRICT</th>\n",
       "      <td>13551.0</td>\n",
       "      <td>135416000</td>\n",
       "      <td>9993.063243</td>\n",
       "    </tr>\n",
       "    <tr>\n",
       "      <th>A.C.G.C. SCHOOL DISTRICT</th>\n",
       "      <td>19060.0</td>\n",
       "      <td>207671000</td>\n",
       "      <td>10895.645331</td>\n",
       "    </tr>\n",
       "    <tr>\n",
       "      <th>ABBEVILLE CO SCH DIST</th>\n",
       "      <td>57038.0</td>\n",
       "      <td>398693000</td>\n",
       "      <td>6989.954066</td>\n",
       "    </tr>\n",
       "    <tr>\n",
       "      <th>ABBEVILLE COUNTY SCHOOL DISTRICT</th>\n",
       "      <td>28747.0</td>\n",
       "      <td>282900000</td>\n",
       "      <td>9841.026890</td>\n",
       "    </tr>\n",
       "    <tr>\n",
       "      <th>ABBOTSFORD SCH DIST</th>\n",
       "      <td>10488.0</td>\n",
       "      <td>85986000</td>\n",
       "      <td>8198.512586</td>\n",
       "    </tr>\n",
       "  </tbody>\n",
       "</table>\n",
       "</div>"
      ],
      "text/plain": [
       "                                  Total Students  Total District Budget  \\\n",
       "NAME                                                                      \n",
       "A-H-S-T SCHOOL DISTRICT                  13551.0              135416000   \n",
       "A.C.G.C. SCHOOL DISTRICT                 19060.0              207671000   \n",
       "ABBEVILLE CO SCH DIST                    57038.0              398693000   \n",
       "ABBEVILLE COUNTY SCHOOL DISTRICT         28747.0              282900000   \n",
       "ABBOTSFORD SCH DIST                      10488.0               85986000   \n",
       "\n",
       "                                  Per Student Budget  \n",
       "NAME                                                  \n",
       "A-H-S-T SCHOOL DISTRICT                  9993.063243  \n",
       "A.C.G.C. SCHOOL DISTRICT                10895.645331  \n",
       "ABBEVILLE CO SCH DIST                    6989.954066  \n",
       "ABBEVILLE COUNTY SCHOOL DISTRICT         9841.026890  \n",
       "ABBOTSFORD SCH DIST                      8198.512586  "
      ]
     },
     "execution_count": 74,
     "metadata": {},
     "output_type": "execute_result"
    }
   ],
   "source": [
    "# District Summary Table\n",
    "\n",
    "district_summary_df = pd.DataFrame({\"Total Students\":student_per_district, \"Total District Budget\":district_budget, \"Per Student Budget\":district_student_budget})\n",
    "\n",
    "# Format to \"$0,000.00\"\n",
    "#district_summary_df['Total District Budget'] = district_summary_df['Total District Budget'].map('${:,.2f}'.format)\n",
    "#district_summary_df['Per Student Budget'] = district_summary_df['Per Student Budget'].map('${:,.2f}'.format)\n",
    "district_summary_df.head()"
   ]
  },
  {
   "cell_type": "code",
   "execution_count": 75,
   "metadata": {},
   "outputs": [
    {
     "data": {
      "text/html": [
       "<div>\n",
       "<style scoped>\n",
       "    .dataframe tbody tr th:only-of-type {\n",
       "        vertical-align: middle;\n",
       "    }\n",
       "\n",
       "    .dataframe tbody tr th {\n",
       "        vertical-align: top;\n",
       "    }\n",
       "\n",
       "    .dataframe thead th {\n",
       "        text-align: right;\n",
       "    }\n",
       "</style>\n",
       "<table border=\"1\" class=\"dataframe\">\n",
       "  <thead>\n",
       "    <tr style=\"text-align: right;\">\n",
       "      <th></th>\n",
       "      <th>Total Students</th>\n",
       "      <th>Total State Budget</th>\n",
       "      <th>Per Student Budget</th>\n",
       "    </tr>\n",
       "    <tr>\n",
       "      <th>STATE</th>\n",
       "      <th></th>\n",
       "      <th></th>\n",
       "      <th></th>\n",
       "    </tr>\n",
       "  </thead>\n",
       "  <tbody>\n",
       "    <tr>\n",
       "      <th>Alabama</th>\n",
       "      <td>17678024.0</td>\n",
       "      <td>139579613000</td>\n",
       "      <td>7895.656947</td>\n",
       "    </tr>\n",
       "    <tr>\n",
       "      <th>Alaska</th>\n",
       "      <td>3130311.0</td>\n",
       "      <td>44461601000</td>\n",
       "      <td>14203.573064</td>\n",
       "    </tr>\n",
       "    <tr>\n",
       "      <th>Arizona</th>\n",
       "      <td>20983730.0</td>\n",
       "      <td>159531203000</td>\n",
       "      <td>7602.614168</td>\n",
       "    </tr>\n",
       "    <tr>\n",
       "      <th>Arkansas</th>\n",
       "      <td>10845646.0</td>\n",
       "      <td>89247427000</td>\n",
       "      <td>8228.871475</td>\n",
       "    </tr>\n",
       "    <tr>\n",
       "      <th>California</th>\n",
       "      <td>142688233.0</td>\n",
       "      <td>1364825940000</td>\n",
       "      <td>9565.091047</td>\n",
       "    </tr>\n",
       "  </tbody>\n",
       "</table>\n",
       "</div>"
      ],
      "text/plain": [
       "            Total Students  Total State Budget  Per Student Budget\n",
       "STATE                                                             \n",
       "Alabama         17678024.0        139579613000         7895.656947\n",
       "Alaska           3130311.0         44461601000        14203.573064\n",
       "Arizona         20983730.0        159531203000         7602.614168\n",
       "Arkansas        10845646.0         89247427000         8228.871475\n",
       "California     142688233.0       1364825940000         9565.091047"
      ]
     },
     "execution_count": 75,
     "metadata": {},
     "output_type": "execute_result"
    }
   ],
   "source": [
    "# State Summary Table\n",
    "\n",
    "state_summary_df = pd.DataFrame({\"Total Students\":student_per_state, \"Total State Budget\":state_budget, \"Per Student Budget\":state_student_budget})\n",
    "\n",
    "\n",
    "# Format to \"$0,000.00\"\n",
    "#state_summary_df['Total State Budget'] = state_summary_df['Total State Budget'].map('${:,.2f}'.format)\n",
    "#state_summary_df['Per Student Budget'] = state_summary_df['Per Student Budget'].map('${:,.2f}'.format)\n",
    "state_summary_df.head()"
   ]
  },
  {
   "cell_type": "code",
   "execution_count": 76,
   "metadata": {},
   "outputs": [
    {
     "data": {
      "text/html": [
       "<div>\n",
       "<style scoped>\n",
       "    .dataframe tbody tr th:only-of-type {\n",
       "        vertical-align: middle;\n",
       "    }\n",
       "\n",
       "    .dataframe tbody tr th {\n",
       "        vertical-align: top;\n",
       "    }\n",
       "\n",
       "    .dataframe thead th {\n",
       "        text-align: right;\n",
       "    }\n",
       "</style>\n",
       "<table border=\"1\" class=\"dataframe\">\n",
       "  <thead>\n",
       "    <tr style=\"text-align: right;\">\n",
       "      <th></th>\n",
       "      <th>Total Students</th>\n",
       "      <th>Total Yearly Budget</th>\n",
       "      <th>Per Student Budget</th>\n",
       "    </tr>\n",
       "    <tr>\n",
       "      <th>YRDATA</th>\n",
       "      <th></th>\n",
       "      <th></th>\n",
       "      <th></th>\n",
       "    </tr>\n",
       "  </thead>\n",
       "  <tbody>\n",
       "    <tr>\n",
       "      <th>1993</th>\n",
       "      <td>40904771.0</td>\n",
       "      <td>239386953000</td>\n",
       "      <td>5852.299063</td>\n",
       "    </tr>\n",
       "    <tr>\n",
       "      <th>1994</th>\n",
       "      <td>40870582.0</td>\n",
       "      <td>246456792000</td>\n",
       "      <td>6030.175739</td>\n",
       "    </tr>\n",
       "    <tr>\n",
       "      <th>1995</th>\n",
       "      <td>43807625.0</td>\n",
       "      <td>275193485000</td>\n",
       "      <td>6281.862689</td>\n",
       "    </tr>\n",
       "    <tr>\n",
       "      <th>1996</th>\n",
       "      <td>44570461.0</td>\n",
       "      <td>292169698000</td>\n",
       "      <td>6555.231681</td>\n",
       "    </tr>\n",
       "    <tr>\n",
       "      <th>1997</th>\n",
       "      <td>45307367.0</td>\n",
       "      <td>309693746000</td>\n",
       "      <td>6835.394915</td>\n",
       "    </tr>\n",
       "  </tbody>\n",
       "</table>\n",
       "</div>"
      ],
      "text/plain": [
       "        Total Students  Total Yearly Budget  Per Student Budget\n",
       "YRDATA                                                         \n",
       "1993        40904771.0         239386953000         5852.299063\n",
       "1994        40870582.0         246456792000         6030.175739\n",
       "1995        43807625.0         275193485000         6281.862689\n",
       "1996        44570461.0         292169698000         6555.231681\n",
       "1997        45307367.0         309693746000         6835.394915"
      ]
     },
     "execution_count": 76,
     "metadata": {},
     "output_type": "execute_result"
    }
   ],
   "source": [
    "# Yearly Summary Table\n",
    "\n",
    "year_summary_df = pd.DataFrame({\"Total Students\":student_per_year, \"Total Yearly Budget\":year_budget, \"Per Student Budget\":yearly_student_budget})\n",
    "\n",
    "\n",
    "# Format to \"$0,000.00\"\n",
    "#year_summary_df['Total Yearly Budget'] = year_summary_df['Total Yearly Budget'].map('${:,.2f}'.format)\n",
    "#year_summary_df['Per Student Budget'] = year_summary_df['Per Student Budget'].map('${:,.2f}'.format)\n",
    "year_summary_df.head()"
   ]
  },
  {
   "cell_type": "markdown",
   "metadata": {},
   "source": [
    "## Plots"
   ]
  },
  {
   "cell_type": "code",
   "execution_count": 77,
   "metadata": {},
   "outputs": [
    {
     "data": {
      "image/png": "[encoded data removed]",
      "text/plain": [
       "<Figure size 2160x504 with 2 Axes>"
      ]
     },
     "metadata": {
      "needs_background": "light"
     },
     "output_type": "display_data"
    }
   ],
   "source": [
    "# Years Plot\n",
    "\n",
    "fig = plt.figure(figsize = (30,7))\n",
    "ax = fig.add_subplot(111)\n",
    "ax2 = ax.twinx()\n",
    "width = .3\n",
    "year_summary_df[\"Total Students\"].plot(kind='bar', color='hotpink', ax=ax, width=width, position=1)\n",
    "year_summary_df[\"Per Student Budget\"].plot(kind='bar', color='green', ax=ax2, width=width, position=0)\n",
    "ax.set_ylabel(\"Per Student Budget\")\n",
    "ax2.set_ylabel(\"Total Students\")\n",
    "ax.legend(\"Per Student Budget\")\n",
    "ax2.legend(\"Total Students\")\n",
    "plt.savefig('Images/figure_1.png', dpi=100)\n",
    "plt.show()"
   ]
  },
  {
   "cell_type": "code",
   "execution_count": 78,
   "metadata": {},
   "outputs": [
    {
     "data": {
      "image/png": "[encoded data removed]",
      "text/plain": [
       "<Figure size 1440x360 with 1 Axes>"
      ]
     },
     "metadata": {
      "needs_background": "light"
     },
     "output_type": "display_data"
    }
   ],
   "source": [
    "\n",
    "\n",
    "fig = plt.figure(figsize = (20,5))\n",
    "ax = plt.gca()\n",
    "year_summary_df[\"Total Students\"].plot(kind='line', y='student_per_year', color='red', ax=ax)\n",
    "year_summary_df[\"Per Student Budget\"].plot(kind='line', y='yearly_student_budget', color='yellow', ax=ax)\n",
    "\n",
    "plt.show()\n",
    "\n"
   ]
  },
  {
   "cell_type": "code",
   "execution_count": 79,
   "metadata": {},
   "outputs": [
    {
     "data": {
      "image/png": "[encoded data removed]",
      "text/plain": [
       "<Figure size 1440x360 with 2 Axes>"
      ]
     },
     "metadata": {
      "needs_background": "light"
     },
     "output_type": "display_data"
    }
   ],
   "source": [
    "# per State Plot\n",
    "\n",
    "fig = plt.figure(figsize = (20,5))\n",
    "ax = fig.add_subplot(111)\n",
    "ax2 = ax.twinx()\n",
    "width = .3\n",
    "state_summary_df[\"Total Students\"].plot(kind='bar', color='orangered', ax=ax, width=width, position=1)\n",
    "state_summary_df[\"Per Student Budget\"].plot(kind='bar', color='navy', ax=ax2, width=width, position=0)\n",
    "ax.set_ylabel(\"Per Student Budget\")\n",
    "ax2.set_ylabel(\"Total Students\")\n",
    "ax.legend(\"Per Student Budget\")\n",
    "ax2.legend(\"Total Students\")\n",
    "plt.savefig('Images/figure_2.png', dpi=100)\n",
    "plt.show()"
   ]
  },
  {
   "cell_type": "code",
   "execution_count": 80,
   "metadata": {},
   "outputs": [
    {
     "data": {
      "image/png": "[encoded data removed]",
      "text/plain": [
       "<Figure size 432x288 with 2 Axes>"
      ]
     },
     "metadata": {
      "needs_background": "light"
     },
     "output_type": "display_data"
    }
   ],
   "source": [
    "# per District Plot\n",
    "\n",
    "district_summary_df = pd.DataFrame(np.random.randn(24737, 2),\n",
    "                                   index=district_summary_df.index, columns=['Total Students', 'Per Student Budget'])\n",
    "\n",
    "district_summary_df['Total Students'] = district_summary_df['Per Student Budget'] + np.arange(24737)\n",
    "\n",
    "district_summary_df.plot.hexbin(x='Per Student Budget', y='Total Students', gridsize=100)\n",
    "plt.savefig('Images/figure_3.png', dpi=100)"
   ]
  },
  {
   "cell_type": "code",
   "execution_count": null,
   "metadata": {},
   "outputs": [],
   "source": []
  }
 ],
 "metadata": {
  "kernelspec": {
   "display_name": "Python 3",
   "language": "python",
   "name": "python3"
  },
  "language_info": {
   "codemirror_mode": {
    "name": "ipython",
    "version": 3
   },
   "file_extension": ".py",
   "mimetype": "text/x-python",
   "name": "python",
   "nbconvert_exporter": "python",
   "pygments_lexer": "ipython3",
   "version": "3.7.6"
  }
 },
 "nbformat": 4,
 "nbformat_minor": 4
}
