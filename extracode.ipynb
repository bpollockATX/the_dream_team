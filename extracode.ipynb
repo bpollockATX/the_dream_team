{
 "cells": [
  {
   "cell_type": "code",
   "execution_count": null,
   "metadata": {},
   "outputs": [],
   "source": [
    "# Reset all \n",
    "yr_student_reset = student_per_year.reset_index(drop=True)\n",
    "yr_budget_reset = yearly_student_budget.reset_index(drop=True)\n",
    "\n",
    "st_student_reset = student_per_state.reset_index(drop=True)\n",
    "st_budget_reset = state_student_budget.reset_index(drop=True)\n",
    "\n",
    "ds_student_reset = student_per_district.reset_index(drop=True)\n",
    "ds_budget_reset = district_student_budget.reset_index(drop=True)"
   ]
  },
  {
   "cell_type": "code",
   "execution_count": null,
   "metadata": {},
   "outputs": [],
   "source": [
    "yr_student_reset = student_per_year.reset_index(drop=True)\n",
    "yr_budget_reset = yearly_student_budget.reset_index(drop=True)\n",
    "year_summary_reset = year_summary_df.reset_index(drop=True)"
   ]
  },
  {
   "cell_type": "code",
   "execution_count": null,
   "metadata": {},
   "outputs": [],
   "source": [
    "state_summary_df['Total State Budget'] = state_summary_df['Total State Budget'].str.replace('$', '')\n",
    "state_summary_df['Total State Budget'] = state_summary_df['Total State Budget'].str.replace(',', '')\n",
    "state_summary_df['Total State Budget'] = state_summary_df['Total State Budget'].astype(float)\n",
    "state_summary_df['Per Student Budget'] = state_summary_df['Per Student Budget'].str.replace('$', '')\n",
    "state_summary_df['Per Student Budget'] = state_summary_df['Per Student Budget'].str.replace(',', '')\n",
    "state_summary_df['Per Student Budget'] = state_summary_df['Per Student Budget'].astype(float)\n",
    "year_summary_df['Per Student Budget'] = year_summary_df['Per Student Budget'].str.replace('$', '')\n",
    "year_summary_df['Per Student Budget'] = year_summary_df['Per Student Budget'].str.replace(',', '')\n",
    "year_summary_df['Per Student Budget'] = year_summary_df['Per Student Budget'].astype(float)\n",
    "year_summary_df['Total Yearly Budget'] = year_summary_df['Total Yearly Budget'].str.replace('$', '')\n",
    "year_summary_df['Total Yearly Budget'] = year_summary_df['Total Yearly Budget'].str.replace(',', '')\n",
    "year_summary_df['Total Yearly Budget'] = year_summary_df['Total Yearly Budget'].astype(float)\n",
    "district_summary_df['Total District Budget'] = district_summary_df['Total District Budget'].str.replace('$', '')\n",
    "district_summary_df['Total District Budget'] = district_summary_df['Total District Budget'].str.replace(',', '')\n",
    "district_summary_df['Total District Budget'] = district_summary_df['Total District Budget'].astype(float)\n",
    "district_summary_df['Per Student Budget'] = district_summary_df['Per Student Budget'].str.replace('$', '')\n",
    "district_summary_df['Per Student Budget'] = district_summary_df['Per Student Budget'].str.replace(',', '')\n",
    "district_summary_df['Per Student Budget'] = district_summary_df['Per Student Budget'].astype(float)"
   ]
  },
  {
   "cell_type": "code",
   "execution_count": null,
   "metadata": {},
   "outputs": [],
   "source": [
    "state_summary_df = pd.DataFrame(np.random.rand(51, 2), columns=['Total Students', 'Per Student Budget'])\n",
    "state_summary_df.plot.bar();"
   ]
  },
  {
   "cell_type": "code",
   "execution_count": null,
   "metadata": {},
   "outputs": [],
   "source": [
    "# Sample bins. Feel free to create your own bins.\n",
    "#spending_bins = [0, 585, 615, 645, 675]\n",
    "#group_names = [\"<$585\", \"$585-615\", \"$615-645\", \"$645-675\"]"
   ]
  },
  {
   "cell_type": "code",
   "execution_count": null,
   "metadata": {},
   "outputs": [],
   "source": [
    "#district_summary_df[\"Spending Ranges (Per Student)\"] = pd.cut(district_summary_df[\"Per Student Budget\"], spending_bins, labels=group_names)\n",
    "#spend_summary = district_summary_df.groupby(\"Spending Ranges (Per Student)\")\n",
    "#spend_summary"
   ]
  },
  {
   "cell_type": "code",
   "execution_count": null,
   "metadata": {},
   "outputs": [],
   "source": []
  },
  {
   "cell_type": "code",
   "execution_count": null,
   "metadata": {},
   "outputs": [],
   "source": [
    "#plt.figure(figsize=(30, 14))\n",
    "#sns.palplot(sns.color_palette(\"husl\", 24))\n",
    "#plt.title('District Spending Overtime')\n",
    "\n",
    "#district_chart = sns.lineplot(\n",
    "#    x=\"Per Student Budget\",\n",
    "#    y=\"Spending Ranges (Per Student)\",\n",
    "#    hue='YRDATA',\n",
    "#   data=district_summary_df\n",
    "#).set_title('District Spending Overtime')\n",
    "#plt.show()\n"
   ]
  },
  {
   "cell_type": "code",
   "execution_count": null,
   "metadata": {},
   "outputs": [],
   "source": [
    "#my_df.plot(kind='bar', stacked=True, title=\"The title of my graph\")\n",
    "#by_site_sex = surveys_df.groupby(['plot_id', 'sex'])\n",
    "#site_sex_count = by_site_sex['weight'].sum()\n",
    "#spc = site_sex_count.unstack()\n",
    "#s_plot = spc.plot(kind='bar', stacked=True, title=\"Total weight by site and sex\")\n",
    "#s_plot.set_ylabel(\"Weight\")\n",
    "#s_plot.set_xlabel(\"Plot\")"
   ]
  },
  {
   "cell_type": "code",
   "execution_count": null,
   "metadata": {},
   "outputs": [],
   "source": [
    "#surveys = pd.read_csv(\"data/surveys.csv\")\n",
    "#my_plot = surveys.plot(\"hindfoot_length\", \"weight\", kind=\"scatter\")\n",
    "#plt.show() # not necessary in Jupyter Notebooks"
   ]
  }
 ],
 "metadata": {
  "kernelspec": {
   "display_name": "Python 3",
   "language": "python",
   "name": "python3"
  },
  "language_info": {
   "codemirror_mode": {
    "name": "ipython",
    "version": 3
   },
   "file_extension": ".py",
   "mimetype": "text/x-python",
   "name": "python",
   "nbconvert_exporter": "python",
   "pygments_lexer": "ipython3",
   "version": "3.7.6"
  }
 },
 "nbformat": 4,
 "nbformat_minor": 4
}
