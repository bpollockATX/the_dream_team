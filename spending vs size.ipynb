{
 "cells": [
  {
   "cell_type": "markdown",
   "metadata": {},
   "source": [
    "# Spending by schoold districts in the USA for years 1993 - 2016"
   ]
  },
  {
   "cell_type": "markdown",
   "metadata": {},
   "source": [
    "*Disclaimer some information was not provided, or specifically coded for privacy, therefore removed"
   ]
  },
  {
   "cell_type": "code",
   "execution_count": null,
   "metadata": {},
   "outputs": [],
   "source": [
    "# Dependencies and Setup\n",
    "\n",
    "import csv\n",
    "import pandas as pd\n",
    "import numpy as np\n",
    "import matplotlib.pyplot as plt\n",
    "import seaborn as sns\n",
    "%matplotlib inline\n",
    "import datetime"
   ]
  },
  {
   "cell_type": "code",
   "execution_count": null,
   "metadata": {},
   "outputs": [],
   "source": [
    "# Import and Read CSV\n",
    "\n",
    "districts_df = \"Resources/districts.csv\"\n",
    "district_data = pd.read_csv(districts_df)"
   ]
  },
  {
   "cell_type": "code",
   "execution_count": null,
   "metadata": {},
   "outputs": [],
   "source": [
    "# Clean up CSV\n",
    "\n",
    "district_data = district_data.dropna().reset_index()\n",
    "del district_data[\"index\"]\n",
    "district_data = district_data[district_data[\"ENROLL\"]!=0]\n",
    "district_data.head()"
   ]
  },
  {
   "cell_type": "markdown",
   "metadata": {},
   "source": [
    "## Data By District"
   ]
  },
  {
   "cell_type": "code",
   "execution_count": null,
   "metadata": {},
   "outputs": [],
   "source": [
    "# District Count\n",
    "\n",
    "district_count = len(district_data[\"NAME\"].unique())\n",
    "district_count"
   ]
  },
  {
   "cell_type": "code",
   "execution_count": null,
   "metadata": {},
   "outputs": [],
   "source": [
    "# Total Count of Schools by District\n",
    "\n",
    "district_total = district_data[\"NAME\"].count()\n",
    "district_total"
   ]
  },
  {
   "cell_type": "code",
   "execution_count": null,
   "metadata": {},
   "outputs": [],
   "source": [
    "# Total Count of Students per District\n",
    "\n",
    "student_total = district_data[\"ENROLL\"].sum()\n",
    "student_total"
   ]
  },
  {
   "cell_type": "code",
   "execution_count": null,
   "metadata": {},
   "outputs": [],
   "source": [
    "# Total Budget per District\n",
    "\n",
    "budget_total = district_data[\"TOTALREV\"].sum()\n",
    "budget_total"
   ]
  },
  {
   "cell_type": "code",
   "execution_count": null,
   "metadata": {},
   "outputs": [],
   "source": [
    "#Students per District\n",
    "\n",
    "student_per_district= district_data.groupby([\"NAME\"])[\"ENROLL\"].sum()\n",
    "student_per_district"
   ]
  },
  {
   "cell_type": "code",
   "execution_count": null,
   "metadata": {},
   "outputs": [],
   "source": [
    "# Total District Budget\n",
    "\n",
    "district_budget = district_data.groupby([\"NAME\"])[\"TOTALEXP\"].sum()\n",
    "district_budget"
   ]
  },
  {
   "cell_type": "code",
   "execution_count": null,
   "metadata": {},
   "outputs": [],
   "source": [
    "# District Student Budget\n",
    "\n",
    "district_student_budget = district_budget/student_per_district\n",
    "district_student_budget"
   ]
  },
  {
   "cell_type": "markdown",
   "metadata": {},
   "source": [
    "## Data By State"
   ]
  },
  {
   "cell_type": "code",
   "execution_count": null,
   "metadata": {},
   "outputs": [],
   "source": [
    "# Total of States in Dataset\n",
    "\n",
    "total_states = len(district_data[\"STATE\"].unique())\n",
    "total_states"
   ]
  },
  {
   "cell_type": "code",
   "execution_count": null,
   "metadata": {},
   "outputs": [],
   "source": [
    "# States\n",
    "\n",
    "state_data = district_data[\"STATE\"].unique()\n",
    "state_data"
   ]
  },
  {
   "cell_type": "code",
   "execution_count": null,
   "metadata": {},
   "outputs": [],
   "source": [
    "#Total Spend per State\n",
    "\n",
    "state_budget = district_data.groupby([\"STATE\"])[\"TOTALEXP\"].sum()\n",
    "state_budget"
   ]
  },
  {
   "cell_type": "code",
   "execution_count": null,
   "metadata": {},
   "outputs": [],
   "source": [
    "# Students per State\n",
    "\n",
    "student_per_state= district_data.groupby([\"STATE\"])[\"ENROLL\"].sum()\n",
    "student_per_state"
   ]
  },
  {
   "cell_type": "code",
   "execution_count": null,
   "metadata": {
    "scrolled": true
   },
   "outputs": [],
   "source": [
    "# State Student Budget\n",
    "\n",
    "state_student_budget  = state_budget/student_per_state\n",
    "state_student_budget"
   ]
  },
  {
   "cell_type": "markdown",
   "metadata": {},
   "source": [
    "# Data By Years"
   ]
  },
  {
   "cell_type": "code",
   "execution_count": null,
   "metadata": {},
   "outputs": [],
   "source": [
    "# Total of Years in Dataset\n",
    "\n",
    "district_years = len(district_data[\"YRDATA\"].unique())\n",
    "district_years"
   ]
  },
  {
   "cell_type": "code",
   "execution_count": null,
   "metadata": {},
   "outputs": [],
   "source": [
    "# Years\n",
    "\n",
    "years_data= district_data[\"YRDATA\"].unique()\n",
    "years_data"
   ]
  },
  {
   "cell_type": "code",
   "execution_count": null,
   "metadata": {},
   "outputs": [],
   "source": [
    "# Students per Year\n",
    "\n",
    "student_per_year= district_data.groupby([\"YRDATA\"])[\"ENROLL\"].sum()\n",
    "student_per_year"
   ]
  },
  {
   "cell_type": "code",
   "execution_count": null,
   "metadata": {},
   "outputs": [],
   "source": [
    "#Total Spend per Year\n",
    "\n",
    "year_budget = district_data.groupby([\"YRDATA\"])[\"TOTALEXP\"].sum()\n",
    "year_budget"
   ]
  },
  {
   "cell_type": "code",
   "execution_count": null,
   "metadata": {},
   "outputs": [],
   "source": [
    "# Yearly Student Budget\n",
    "\n",
    "yearly_student_budget  = year_budget/student_per_year\n",
    "yearly_student_budget"
   ]
  },
  {
   "cell_type": "markdown",
   "metadata": {},
   "source": [
    "## Tables"
   ]
  },
  {
   "cell_type": "code",
   "execution_count": null,
   "metadata": {},
   "outputs": [],
   "source": [
    "# District Table\n",
    "\n",
    "district_summary_table = pd.DataFrame({\"Total Districts\":[district_total], \"Total Years\":[district_years], \"TOTALEXP\":[budget_total], \"ENROLL\":[student_total]})\n",
    "district_summary_table"
   ]
  },
  {
   "cell_type": "code",
   "execution_count": null,
   "metadata": {},
   "outputs": [],
   "source": [
    "# State Summary Table\n",
    "\n",
    "state_summary_table = pd.DataFrame({\"TOTALEXP\":state_budget, \"ENROLL\":student_per_state})\n",
    "state_summary_table"
   ]
  },
  {
   "cell_type": "code",
   "execution_count": null,
   "metadata": {},
   "outputs": [],
   "source": [
    "# Yearly Summary Table\n",
    "\n",
    "year_summary_table = pd.DataFrame({\"TOTALEXP\":year_budget, \"ENROLL\":student_per_year})\n",
    "year_summary_table"
   ]
  },
  {
   "cell_type": "markdown",
   "metadata": {},
   "source": [
    "## Spending Tables"
   ]
  },
  {
   "cell_type": "code",
   "execution_count": null,
   "metadata": {},
   "outputs": [],
   "source": [
    "# District Summary Table\n",
    "\n",
    "district_summary_df = pd.DataFrame({\"Total Students\":student_per_district, \"Total District Budget\":district_budget, \"Per Student Budget\":district_student_budget})\n",
    "\n",
    "# Format to \"$0,000.00\"\n",
    "#district_summary_df['Total District Budget'] = district_summary_df['Total District Budget'].map('${:,.2f}'.format)\n",
    "#district_summary_df['Per Student Budget'] = district_summary_df['Per Student Budget'].map('${:,.2f}'.format)\n",
    "district_summary_df.head()"
   ]
  },
  {
   "cell_type": "code",
   "execution_count": null,
   "metadata": {},
   "outputs": [],
   "source": [
    "# State Summary Table\n",
    "\n",
    "state_summary_df = pd.DataFrame({\"Total Students\":student_per_state, \"Total State Budget\":state_budget, \"Per Student Budget\":state_student_budget})\n",
    "\n",
    "\n",
    "# Format to \"$0,000.00\"\n",
    "#state_summary_df['Total State Budget'] = state_summary_df['Total State Budget'].map('${:,.2f}'.format)\n",
    "#state_summary_df['Per Student Budget'] = state_summary_df['Per Student Budget'].map('${:,.2f}'.format)\n",
    "state_summary_df"
   ]
  },
  {
   "cell_type": "code",
   "execution_count": null,
   "metadata": {},
   "outputs": [],
   "source": [
    "# Yearly Summary Table\n",
    "\n",
    "year_summary_df = pd.DataFrame({\"Total Students\":student_per_year, \"Total Yearly Budget\":year_budget, \"Per Student Budget\":yearly_student_budget})\n",
    "\n",
    "\n",
    "# Format to \"$0,000.00\"\n",
    "#year_summary_df['Total Yearly Budget'] = year_summary_df['Total Yearly Budget'].map('${:,.2f}'.format)\n",
    "#year_summary_df['Per Student Budget'] = year_summary_df['Per Student Budget'].map('${:,.2f}'.format)\n",
    "year_summary_df"
   ]
  },
  {
   "cell_type": "markdown",
   "metadata": {},
   "source": [
    "## Plots"
   ]
  },
  {
   "cell_type": "code",
   "execution_count": null,
   "metadata": {},
   "outputs": [],
   "source": [
    "sns.set()"
   ]
  },
  {
   "cell_type": "code",
   "execution_count": null,
   "metadata": {},
   "outputs": [],
   "source": [
    "# Years Plot\n",
    "\n",
    "fig = plt.figure(figsize = (30,7))\n",
    "ax = fig.add_subplot(111)\n",
    "ax2 = ax.twinx()\n",
    "width = .3\n",
    "year_summary_df[\"Total Students\"].plot(kind='bar', color='hotpink', ax=ax, width=width, position=1)\n",
    "year_summary_df[\"Per Student Budget\"].plot(kind='bar', color='green', ax=ax2, width=width, position=0)\n",
    "ax.set_ylabel(\"Per Student Budget\")\n",
    "ax2.set_ylabel(\"Total Students\")\n",
    "ax.legend(\"Per Student Budget\")\n",
    "ax2.legend(\"Total Students\")\n",
    "plt.savefig('Images/figure_1.png', dpi=100)\n",
    "plt.show()"
   ]
  },
  {
   "cell_type": "code",
   "execution_count": null,
   "metadata": {},
   "outputs": [],
   "source": [
    "\n",
    "\n",
    "fig = plt.figure(figsize = (20,5))\n",
    "ax = plt.gca()\n",
    "year_summary_df[\"Total Students\"].plot(kind='line', y='student_per_year', color='red', ax=ax)\n",
    "year_summary_df[\"Per Student Budget\"].plot(kind='line', y='yearly_student_budget', color='yellow', ax=ax)\n",
    "\n",
    "plt.show()\n",
    "\n"
   ]
  },
  {
   "cell_type": "code",
   "execution_count": null,
   "metadata": {},
   "outputs": [],
   "source": [
    "# per State Plot\n",
    "\n",
    "fig = plt.figure(figsize = (20,5))\n",
    "ax = fig.add_subplot(111)\n",
    "ax2 = ax.twinx()\n",
    "width = .3\n",
    "state_summary_df[\"Total Students\"].plot(kind='bar', color='orangered', ax=ax, width=width, position=1)\n",
    "state_summary_df[\"Per Student Budget\"].plot(kind='bar', color='navy', ax=ax2, width=width, position=0)\n",
    "ax.set_ylabel(\"Per Student Budget\")\n",
    "ax2.set_ylabel(\"Total Students\")\n",
    "ax.legend(\"Per Student Budget\")\n",
    "ax2.legend(\"Total Students\")\n",
    "plt.savefig('Images/figure_2.png', dpi=100)\n",
    "plt.show()"
   ]
  },
  {
   "cell_type": "code",
   "execution_count": null,
   "metadata": {},
   "outputs": [],
   "source": [
    "# per District Plot\n",
    "fig = plt.figure(figsize = (40,10))\n",
    "district_summary_df = pd.DataFrame(np.random.randn(24737, 2),\n",
    "                                   index=district_summary_df.index, columns=['Total Students', 'Per Student Budget'])\n",
    "\n",
    "district_summary_df['Total Students'] = district_summary_df['Per Student Budget'] + np.arange(24737)\n",
    "\n",
    "district_summary_df.plot.hexbin(x='Per Student Budget', y='Total Students', gridsize=100)\n",
    "plt.savefig('Images/figure_3.png', dpi=100)"
   ]
  },
  {
   "cell_type": "code",
   "execution_count": null,
   "metadata": {},
   "outputs": [],
   "source": []
  }
 ],
 "metadata": {
  "kernelspec": {
   "display_name": "Python 3",
   "language": "python",
   "name": "python3"
  },
  "language_info": {
   "codemirror_mode": {
    "name": "ipython",
    "version": 3
   },
   "file_extension": ".py",
   "mimetype": "text/x-python",
   "name": "python",
   "nbconvert_exporter": "python",
   "pygments_lexer": "ipython3",
   "version": "3.7.6"
  }
 },
 "nbformat": 4,
 "nbformat_minor": 4
}
