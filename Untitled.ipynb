{
 "cells": [
  {
   "cell_type": "code",
   "execution_count": 4,
   "metadata": {},
   "outputs": [],
   "source": [
    "import csv\n",
    "import pandas as pd\n",
    "import numpy as np\n",
    "import matplotlib.pyplot as plt\n",
    "import seaborn as sns\n",
    "%matplotlib inline\n",
    "import datetime\n",
    "\n",
    "districts_df = \"Resources/districts.csv\"\n",
    "district_data = pd.read_csv(districts_df)\n",
    "\n",
    "district_data = district_data.dropna().reset_index()\n",
    "del district_data[\"index\"]\n",
    "district_data = district_data[district_data[\"ENROLL\"]!=0]"
   ]
  },
  {
   "cell_type": "code",
   "execution_count": 7,
   "metadata": {},
   "outputs": [
    {
     "data": {
      "text/plain": [
       "YRDATA\n",
       "1993     5852.299063\n",
       "1994     6030.175739\n",
       "1995     6281.862689\n",
       "1996     6555.231681\n",
       "1997     6835.394915\n",
       "1998     7214.824551\n",
       "1999     7658.426685\n",
       "2000     8158.516455\n",
       "2001     8756.058501\n",
       "2002     9199.285412\n",
       "2003     9507.252910\n",
       "2004     9850.156086\n",
       "2005    10318.996040\n",
       "2006    10875.744819\n",
       "2007    11542.195022\n",
       "2008    12228.690557\n",
       "2009    12505.287346\n",
       "2010    12448.741168\n",
       "2011    12332.343220\n",
       "2012    12312.959219\n",
       "2013    12370.955870\n",
       "2014    12679.933150\n",
       "2015    13183.263452\n",
       "2016    13677.726102\n",
       "dtype: float64"
      ]
     },
     "execution_count": 7,
     "metadata": {},
     "output_type": "execute_result"
    }
   ],
   "source": [
    "student_per_year= district_data.groupby([\"YRDATA\"])[\"ENROLL\"].sum()\n",
    "student_per_year\n",
    "\n",
    "year_budget = district_data.groupby([\"YRDATA\"])[\"TOTALEXP\"].sum()\n",
    "year_budget\n",
    "\n",
    "yearly_student_budget  = year_budget/student_per_year\n",
    "yearly_student_budget"
   ]
  },
  {
   "cell_type": "code",
   "execution_count": 12,
   "metadata": {},
   "outputs": [],
   "source": [
    "yr_student_reset = student_per_year.reset_index(drop=True)\n",
    "yr_budget_reset = year_budget.reset_index(drop=True)\n",
    "yr_stbud_reset = yearly_student_budget.reset_index(drop=True)"
   ]
  },
  {
   "cell_type": "code",
   "execution_count": 20,
   "metadata": {},
   "outputs": [
    {
     "data": {
      "text/html": [
       "<div>\n",
       "<style scoped>\n",
       "    .dataframe tbody tr th:only-of-type {\n",
       "        vertical-align: middle;\n",
       "    }\n",
       "\n",
       "    .dataframe tbody tr th {\n",
       "        vertical-align: top;\n",
       "    }\n",
       "\n",
       "    .dataframe thead th {\n",
       "        text-align: right;\n",
       "    }\n",
       "</style>\n",
       "<table border=\"1\" class=\"dataframe\">\n",
       "  <thead>\n",
       "    <tr style=\"text-align: right;\">\n",
       "      <th></th>\n",
       "      <th>yr_stbud_reset</th>\n",
       "    </tr>\n",
       "  </thead>\n",
       "  <tbody>\n",
       "    <tr>\n",
       "      <th>yr_budget_reset</th>\n",
       "      <td>yr_student_reset</td>\n",
       "    </tr>\n",
       "  </tbody>\n",
       "</table>\n",
       "</div>"
      ],
      "text/plain": [
       "                   yr_stbud_reset\n",
       "yr_budget_reset  yr_student_reset"
      ]
     },
     "execution_count": 20,
     "metadata": {},
     "output_type": "execute_result"
    }
   ],
   "source": [
    "yearline = pd.DataFrame(['yr_student_reset'],['yr_budget_reset'],  ['yr_stbud_reset'])\n",
    "yearline"
   ]
  },
  {
   "cell_type": "code",
   "execution_count": 28,
   "metadata": {},
   "outputs": [
    {
     "ename": "AttributeError",
     "evalue": "'numpy.ndarray' object has no attribute 'set_xlim'",
     "output_type": "error",
     "traceback": [
      "\u001b[1;31m---------------------------------------------------------------------------\u001b[0m",
      "\u001b[1;31mAttributeError\u001b[0m                            Traceback (most recent call last)",
      "\u001b[1;32m<ipython-input-28-ea0a4d151dcf>\u001b[0m in \u001b[0;36m<module>\u001b[1;34m\u001b[0m\n\u001b[0;32m     23\u001b[0m \u001b[1;31m# Limit the range of the plot to only where the data is.\u001b[0m\u001b[1;33m\u001b[0m\u001b[1;33m\u001b[0m\u001b[1;33m\u001b[0m\u001b[0m\n\u001b[0;32m     24\u001b[0m \u001b[1;31m# Avoid unnecessary whitespace.\u001b[0m\u001b[1;33m\u001b[0m\u001b[1;33m\u001b[0m\u001b[1;33m\u001b[0m\u001b[0m\n\u001b[1;32m---> 25\u001b[1;33m \u001b[0max\u001b[0m\u001b[1;33m.\u001b[0m\u001b[0mset_xlim\u001b[0m\u001b[1;33m(\u001b[0m\u001b[1;36m1993\u001b[0m\u001b[1;33m,\u001b[0m \u001b[1;36m2017\u001b[0m\u001b[1;33m)\u001b[0m\u001b[1;33m\u001b[0m\u001b[1;33m\u001b[0m\u001b[0m\n\u001b[0m\u001b[0;32m     26\u001b[0m \u001b[0max\u001b[0m\u001b[1;33m.\u001b[0m\u001b[0mset_ylim\u001b[0m\u001b[1;33m(\u001b[0m\u001b[1;33m-\u001b[0m\u001b[1;36m0.25\u001b[0m\u001b[1;33m,\u001b[0m \u001b[1;36m90\u001b[0m\u001b[1;33m)\u001b[0m\u001b[1;33m\u001b[0m\u001b[1;33m\u001b[0m\u001b[0m\n\u001b[0;32m     27\u001b[0m \u001b[1;33m\u001b[0m\u001b[0m\n",
      "\u001b[1;31mAttributeError\u001b[0m: 'numpy.ndarray' object has no attribute 'set_xlim'"
     ]
    },
    {
     "data": {
      "image/png": "[encoded data removed]",
      "text/plain": [
       "<Figure size 864x1008 with 24 Axes>"
      ]
     },
     "metadata": {
      "needs_background": "light"
     },
     "output_type": "display_data"
    }
   ],
   "source": [
    "# These are the colors that will be used in the plot\n",
    "color_sequence = ['#1f77b4', '#aec7e8', '#ff7f0e', '#ffbb78', '#2ca02c',\n",
    "                  '#98df8a', '#d62728', '#ff9896', '#9467bd', '#c5b0d5',\n",
    "                  '#8c564b', '#c49c94', '#e377c2', '#f7b6d2', '#7f7f7f',\n",
    "                  '#c7c7c7', '#bcbd22', '#dbdb8d', '#17becf', '#9edae5']\n",
    "\n",
    "# You typically want your plot to be ~1.33x wider than tall. This plot\n",
    "# is a rare exception because of the number of lines being plotted on it.\n",
    "# Common sizes: (10, 7.5) and (12, 9)\n",
    "fig, ax = plt.subplots(24, 1, figsize=(12, 14))\n",
    "\n",
    "# Remove the plot frame lines. They are unnecessary here.\n",
    "#ax.spines['bottom'].set_visible(False)\n",
    "#ax.spines['right'].set_visible(False)\n",
    "#ax.spines['left'].set_visible(False)\n",
    "\n",
    "# Ensure that the axis ticks only show up on the bottom and left of the plot.\n",
    "# Ticks on the right and top of the plot are generally unnecessary.\n",
    "#ax.get_xaxis().tick_bottom()\n",
    "#ax.get_yaxis().tick_left()\n",
    "\n",
    "fig.subplots_adjust(left=.06, right=.75, bottom=.02, top=.94)\n",
    "# Limit the range of the plot to only where the data is.\n",
    "# Avoid unnecessary whitespace.\n",
    "ax.set_xlim(1993, 2017)\n",
    "ax.set_ylim(-0.25, 90)\n",
    "\n",
    "# Make sure your axis ticks are large enough to be easily read.\n",
    "# You don't want your viewers squinting to read your plot.\n",
    "plt.xticks(range(1993, 2020, 3), fontsize=14)\n",
    "plt.yticks(range(0, 91, 10), fontsize=14)\n",
    "\n",
    "\n",
    "# Provide tick lines across the plot to help your viewers trace along\n",
    "# the axis ticks. Make sure that the lines are light and small so they\n",
    "# don't obscure the primary data lines.\n",
    "#plt.grid(True, 'yr_stbud_reset', 'y', ls='--', lw=.5, c='k', alpha=.3)\n",
    "\n",
    "# Remove the tick marks; they are unnecessary with the tick lines we just\n",
    "# plotted.\n",
    "plt.tick_params(axis='both', which='both', bottom='off', top='off',\n",
    "                labelbottom='on', left='off', right='off', labelleft='on')\n",
    "\n",
    "# Now that the plot is prepared, it's time to actually plot the data!\n",
    "# Note that I plotted the majors in order of the highest % in the final year.\n",
    "yearline.index= [1993, 1994, 1995, 1996, 1997, 1998, 1999, 2000, 2001, 2002, 2003,\n",
    "       2004, 2005, 2006, 2007, 2008, 2009, 2010, 2011, 2012, 2013, 2014,\n",
    "       2015, 2016]\n",
    "\n",
    "y_offsets = {'1993': 5852.299063, \n",
    "             '1994': 6030.175739,\n",
    "             '1995': 6281.862689,\n",
    "             '1996': 6555.231681,\n",
    "             '1997': 6835.394915,\n",
    "             '1998': 7214.824551,\n",
    "             '1999': 7658.426685,\n",
    "             '2000': 8158.516455,\n",
    "             '2001': 8756.058501,\n",
    "             '2002': 9199.285412,\n",
    "             '2003': 9507.252910,\n",
    "             '2004': 9850.156086,\n",
    "             '2005': 10318.996040,\n",
    "             '2006': 10875.744819,\n",
    "             '2007': 11542.195022,\n",
    "             '2008': 12228.690557,\n",
    "             '2009': 12505.287346,\n",
    "             '2010': 12448.741168,\n",
    "             '2011': 12332.343220,\n",
    "             '2012': 12312.959219,\n",
    "             '2013': 12370.955870,\n",
    "             '2014': 12679.933150,\n",
    "             '2015': 13183.263452,\n",
    "             '2016': 13677.726102}\n",
    "\n",
    "for rank, column in enumerate(years):\n",
    "    # Plot each line separately with its own color.\n",
    "    #column_rec_name = column.replace('\\n', '_').replace(' ', '_').lower()\n",
    "\n",
    "    line = plt.plot(yearline,\n",
    "                    yearline[yr_stbud_reset],\n",
    "                    lw=2.5,\n",
    "                    color=color_sequence[rank])\n",
    "\n",
    "    # Add a text label to the right end of every line. Most of the code below\n",
    "    # is adding specific offsets y position because some labels overlapped.\n",
    "    y_pos = yearline[yr_stbud_reset][-1] - 0.5\n",
    "\n",
    "    if column in y_offsets:\n",
    "        y_pos += y_offsets[column]\n",
    "\n",
    "    # Again, make sure that all labels are large enough to be easily read\n",
    "    # by the viewer.\n",
    "    plt.text(2011.5, y_pos, column, fontsize=14, color=color_sequence[rank])\n",
    "\n",
    "# Make the title big enough so it spans the entire plot, but don't make it\n",
    "# so big that it requires two lines to show.\n",
    "\n",
    "# Note that if the title is descriptive enough, it is unnecessary to include\n",
    "# axis labels; they are self-evident, in this plot's case.\n",
    "fig.suptitle('Something if it works', fontsize=18, ha='center')\n",
    "\n",
    "# Finally, save the figure as a PNG.\n",
    "# You can also save it as a PDF, JPEG, etc.\n",
    "# Just change the file extension in this call.\n",
    "# plt.savefig('percent-bachelors-degrees-women-usa.png', bbox_inches='tight')\n",
    "plt.show()"
   ]
  },
  {
   "cell_type": "code",
   "execution_count": null,
   "metadata": {},
   "outputs": [],
   "source": []
  },
  {
   "cell_type": "code",
   "execution_count": null,
   "metadata": {},
   "outputs": [],
   "source": []
  }
 ],
 "metadata": {
  "kernelspec": {
   "display_name": "Python 3",
   "language": "python",
   "name": "python3"
  },
  "language_info": {
   "codemirror_mode": {
    "name": "ipython",
    "version": 3
   },
   "file_extension": ".py",
   "mimetype": "text/x-python",
   "name": "python",
   "nbconvert_exporter": "python",
   "pygments_lexer": "ipython3",
   "version": "3.7.6"
  }
 },
 "nbformat": 4,
 "nbformat_minor": 4
}
